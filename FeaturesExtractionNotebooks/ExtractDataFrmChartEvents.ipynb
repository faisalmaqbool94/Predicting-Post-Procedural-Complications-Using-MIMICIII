{
 "cells": [
  {
   "cell_type": "code",
   "execution_count": 1,
   "metadata": {},
   "outputs": [],
   "source": [
    "import pandas as pd"
   ]
  },
  {
   "cell_type": "code",
   "execution_count": 207,
   "metadata": {
    "collapsed": true
   },
   "outputs": [],
   "source": [
    "look = [223762,220045,220048,220210,220228,220088,220218,220224,220227,220235,220245,220274,762,764,775,5810,5811,5812,941,942,944,993,1003,1044,833,220546,823,829,1536,223830,223834,226751,14511,628,676,786,818,3066,3341,3352,3354,3490,1725,5753,3744]"
   ]
  },
  {
   "cell_type": "code",
   "execution_count": 218,
   "metadata": {},
   "outputs": [],
   "source": [
    "df = pd.read_csv(r'D:\\DataScience\\Notebooks\\1_filtered.csv')"
   ]
  },
  {
   "cell_type": "code",
   "execution_count": 219,
   "metadata": {},
   "outputs": [
    {
     "data": {
      "text/html": [
       "<div>\n",
       "<table border=\"1\" class=\"dataframe\">\n",
       "  <thead>\n",
       "    <tr style=\"text-align: right;\">\n",
       "      <th></th>\n",
       "      <th>ROW_ID</th>\n",
       "      <th>SUBJECT_ID</th>\n",
       "      <th>HADM_ID</th>\n",
       "      <th>ICUSTAY_ID</th>\n",
       "      <th>ITEMID</th>\n",
       "      <th>CHARTTIME</th>\n",
       "      <th>STORETIME</th>\n",
       "      <th>CGID</th>\n",
       "      <th>VALUE</th>\n",
       "      <th>VALUENUM</th>\n",
       "      <th>VALUEUOM</th>\n",
       "      <th>WARNING</th>\n",
       "      <th>ERROR</th>\n",
       "      <th>RESULTSTATUS</th>\n",
       "      <th>STOPPED</th>\n",
       "    </tr>\n",
       "  </thead>\n",
       "  <tbody>\n",
       "    <tr>\n",
       "      <th>1948678</th>\n",
       "      <td>3013266</td>\n",
       "      <td>25317</td>\n",
       "      <td>114994</td>\n",
       "      <td>207857.0</td>\n",
       "      <td>220277</td>\n",
       "      <td>2137-05-24 12:00:00</td>\n",
       "      <td>2137-05-24 11:51:00</td>\n",
       "      <td>15652.0</td>\n",
       "      <td>95.0</td>\n",
       "      <td>95.0</td>\n",
       "      <td>%</td>\n",
       "      <td>0</td>\n",
       "      <td>0</td>\n",
       "      <td>NaN</td>\n",
       "      <td>NaN</td>\n",
       "    </tr>\n",
       "    <tr>\n",
       "      <th>1948679</th>\n",
       "      <td>3013267</td>\n",
       "      <td>25317</td>\n",
       "      <td>114994</td>\n",
       "      <td>207857.0</td>\n",
       "      <td>223761</td>\n",
       "      <td>2137-05-24 12:00:00</td>\n",
       "      <td>2137-05-24 12:15:00</td>\n",
       "      <td>15652.0</td>\n",
       "      <td>97.9</td>\n",
       "      <td>97.9</td>\n",
       "      <td>?F</td>\n",
       "      <td>0</td>\n",
       "      <td>0</td>\n",
       "      <td>NaN</td>\n",
       "      <td>NaN</td>\n",
       "    </tr>\n",
       "    <tr>\n",
       "      <th>1948680</th>\n",
       "      <td>3013268</td>\n",
       "      <td>25317</td>\n",
       "      <td>114994</td>\n",
       "      <td>207857.0</td>\n",
       "      <td>223834</td>\n",
       "      <td>2137-05-24 12:00:00</td>\n",
       "      <td>2137-05-24 11:17:00</td>\n",
       "      <td>21319.0</td>\n",
       "      <td>4.0</td>\n",
       "      <td>4.0</td>\n",
       "      <td>L/min</td>\n",
       "      <td>0</td>\n",
       "      <td>0</td>\n",
       "      <td>NaN</td>\n",
       "      <td>NaN</td>\n",
       "    </tr>\n",
       "    <tr>\n",
       "      <th>1948681</th>\n",
       "      <td>3013269</td>\n",
       "      <td>25317</td>\n",
       "      <td>114994</td>\n",
       "      <td>207857.0</td>\n",
       "      <td>220277</td>\n",
       "      <td>2137-05-24 12:15:00</td>\n",
       "      <td>2137-05-24 13:37:00</td>\n",
       "      <td>15652.0</td>\n",
       "      <td>86.0</td>\n",
       "      <td>86.0</td>\n",
       "      <td>%</td>\n",
       "      <td>1</td>\n",
       "      <td>0</td>\n",
       "      <td>NaN</td>\n",
       "      <td>NaN</td>\n",
       "    </tr>\n",
       "    <tr>\n",
       "      <th>1948682</th>\n",
       "      <td>3013270</td>\n",
       "      <td>25317</td>\n",
       "      <td>114994</td>\n",
       "      <td>207857.0</td>\n",
       "      <td>220045</td>\n",
       "      <td>2137-05-24 13:00:00</td>\n",
       "      <td>2137-05-24 12:53:00</td>\n",
       "      <td>15652.0</td>\n",
       "      <td>90.0</td>\n",
       "      <td>90.0</td>\n",
       "      <td>bpm</td>\n",
       "      <td>0</td>\n",
       "      <td>0</td>\n",
       "      <td>NaN</td>\n",
       "      <td>NaN</td>\n",
       "    </tr>\n",
       "  </tbody>\n",
       "</table>\n",
       "</div>"
      ],
      "text/plain": [
       "          ROW_ID  SUBJECT_ID  HADM_ID  ICUSTAY_ID  ITEMID  \\\n",
       "1948678  3013266       25317   114994    207857.0  220277   \n",
       "1948679  3013267       25317   114994    207857.0  223761   \n",
       "1948680  3013268       25317   114994    207857.0  223834   \n",
       "1948681  3013269       25317   114994    207857.0  220277   \n",
       "1948682  3013270       25317   114994    207857.0  220045   \n",
       "\n",
       "                   CHARTTIME            STORETIME     CGID  VALUE  VALUENUM  \\\n",
       "1948678  2137-05-24 12:00:00  2137-05-24 11:51:00  15652.0   95.0      95.0   \n",
       "1948679  2137-05-24 12:00:00  2137-05-24 12:15:00  15652.0   97.9      97.9   \n",
       "1948680  2137-05-24 12:00:00  2137-05-24 11:17:00  21319.0    4.0       4.0   \n",
       "1948681  2137-05-24 12:15:00  2137-05-24 13:37:00  15652.0   86.0      86.0   \n",
       "1948682  2137-05-24 13:00:00  2137-05-24 12:53:00  15652.0   90.0      90.0   \n",
       "\n",
       "        VALUEUOM  WARNING  ERROR  RESULTSTATUS  STOPPED  \n",
       "1948678        %        0      0           NaN      NaN  \n",
       "1948679       ?F        0      0           NaN      NaN  \n",
       "1948680    L/min        0      0           NaN      NaN  \n",
       "1948681        %        1      0           NaN      NaN  \n",
       "1948682      bpm        0      0           NaN      NaN  "
      ]
     },
     "execution_count": 219,
     "metadata": {},
     "output_type": "execute_result"
    }
   ],
   "source": [
    "df.tail()"
   ]
  },
  {
   "cell_type": "code",
   "execution_count": 220,
   "metadata": {
    "scrolled": true
   },
   "outputs": [],
   "source": [
    "df = df[df['ITEMID'].isin(look)]"
   ]
  },
  {
   "cell_type": "code",
   "execution_count": 221,
   "metadata": {},
   "outputs": [
    {
     "data": {
      "text/plain": [
       "(334942, 15)"
      ]
     },
     "execution_count": 221,
     "metadata": {},
     "output_type": "execute_result"
    }
   ],
   "source": [
    "df.shape"
   ]
  },
  {
   "cell_type": "code",
   "execution_count": 222,
   "metadata": {},
   "outputs": [],
   "source": [
    "df.to_csv('1_final.csv', index = False)"
   ]
  },
  {
   "cell_type": "code",
   "execution_count": 246,
   "metadata": {},
   "outputs": [
    {
     "name": "stdout",
     "output_type": "stream",
     "text": [
      "File No : 2 Done\n",
      "File No : 3 Done\n",
      "File No : 4 Done\n",
      "File No : 5 Done\n",
      "File No : 6 Done\n",
      "File No : 7 Done\n",
      "File No : 8 Done\n",
      "File No : 9 Done\n",
      "File No : 10 Done\n",
      "File No : 11 Done\n",
      "File No : 12 Done\n",
      "File No : 13 Done\n",
      "File No : 14 Done\n",
      "File No : 15 Done\n",
      "File No : 16 Done\n",
      "File No : 17 Done\n",
      "File No : 18 Done\n",
      "File No : 19 Done\n",
      "File No : 20 Done\n",
      "File No : 21 Done\n",
      "File No : 22 Done\n",
      "File No : 23 Done\n",
      "File No : 24 Done\n",
      "File No : 25 Done\n",
      "File No : 26 Done\n",
      "File No : 27 Done\n",
      "File No : 28 Done\n",
      "File No : 29 Done\n"
     ]
    },
    {
     "name": "stderr",
     "output_type": "stream",
     "text": [
      "C:\\Program Files\\Anaconda3\\lib\\site-packages\\IPython\\core\\interactiveshell.py:2717: DtypeWarning: Columns (8,13,14) have mixed types. Specify dtype option on import or set low_memory=False.\n",
      "  interactivity=interactivity, compiler=compiler, result=result)\n"
     ]
    },
    {
     "name": "stdout",
     "output_type": "stream",
     "text": [
      "File No : 30 Done\n"
     ]
    }
   ],
   "source": [
    "for i in range(2,31):\n",
    "    file  = r'D:\\\\DataScience\\\\Notebooks\\\\' + str(i) + '_filtered.csv'\n",
    "    df = pd.read_csv(file)\n",
    "    df = df[df['ITEMID'].isin(look)]\n",
    "    df.to_csv(str(i) + '_final.csv', index = False)\n",
    "    print('File No : ' + str(i) + ' Done')"
   ]
  },
  {
   "cell_type": "code",
   "execution_count": null,
   "metadata": {
    "collapsed": true
   },
   "outputs": [],
   "source": []
  },
  {
   "cell_type": "code",
   "execution_count": null,
   "metadata": {
    "collapsed": true
   },
   "outputs": [],
   "source": []
  },
  {
   "cell_type": "code",
   "execution_count": null,
   "metadata": {
    "collapsed": true
   },
   "outputs": [],
   "source": []
  },
  {
   "cell_type": "code",
   "execution_count": null,
   "metadata": {
    "collapsed": true
   },
   "outputs": [],
   "source": []
  },
  {
   "cell_type": "code",
   "execution_count": null,
   "metadata": {
    "collapsed": true
   },
   "outputs": [],
   "source": []
  },
  {
   "cell_type": "code",
   "execution_count": null,
   "metadata": {
    "collapsed": true
   },
   "outputs": [],
   "source": []
  },
  {
   "cell_type": "code",
   "execution_count": null,
   "metadata": {
    "collapsed": true
   },
   "outputs": [],
   "source": []
  },
  {
   "cell_type": "code",
   "execution_count": null,
   "metadata": {
    "collapsed": true
   },
   "outputs": [],
   "source": []
  },
  {
   "cell_type": "code",
   "execution_count": null,
   "metadata": {
    "collapsed": true
   },
   "outputs": [],
   "source": []
  },
  {
   "cell_type": "code",
   "execution_count": 35,
   "metadata": {},
   "outputs": [
    {
     "name": "stdout",
     "output_type": "stream",
     "text": [
      "File Number : 26 Done\n",
      "File Number : 27 Done\n",
      "File Number : 28 Done\n",
      "File Number : 29 Done\n"
     ]
    },
    {
     "name": "stderr",
     "output_type": "stream",
     "text": [
      "C:\\Program Files\\Anaconda3\\lib\\site-packages\\IPython\\core\\interactiveshell.py:2717: DtypeWarning: Columns (8,13,14) have mixed types. Specify dtype option on import or set low_memory=False.\n",
      "  interactivity=interactivity, compiler=compiler, result=result)\n"
     ]
    },
    {
     "name": "stdout",
     "output_type": "stream",
     "text": [
      "File Number : 30 Done\n"
     ]
    }
   ],
   "source": [
    "skipRows = 0\n",
    "nRows = 1000000\n",
    "count = 1\n",
    "\n",
    "while (count < 31):\n",
    "    df = pd.read_csv('D:\\DataScience\\MimicDataset\\CHARTEVENTS.csv', skiprows=skipRows, nrows=nRows)\n",
    "    \n",
    "    df.to_csv(str(count) + '.csv', index = False)\n",
    "    \n",
    "    print('File Number : '+ str(count) + ' Done')\n",
    "    \n",
    "    count += 1\n",
    "    skipRows += 1000000\n",
    "    nRows += 1000000"
   ]
  },
  {
   "cell_type": "code",
   "execution_count": null,
   "metadata": {
    "collapsed": true
   },
   "outputs": [],
   "source": []
  },
  {
   "cell_type": "code",
   "execution_count": null,
   "metadata": {},
   "outputs": [],
   "source": []
  },
  {
   "cell_type": "code",
   "execution_count": null,
   "metadata": {},
   "outputs": [],
   "source": []
  },
  {
   "cell_type": "code",
   "execution_count": null,
   "metadata": {},
   "outputs": [],
   "source": []
  },
  {
   "cell_type": "code",
   "execution_count": null,
   "metadata": {},
   "outputs": [],
   "source": []
  },
  {
   "cell_type": "code",
   "execution_count": 2,
   "metadata": {},
   "outputs": [],
   "source": [
    "subIDs = list(pd.read_csv(r'D:\\DataScience\\ChartEventLookup\\loopupData.csv')['subject_id'])"
   ]
  },
  {
   "cell_type": "code",
   "execution_count": 3,
   "metadata": {},
   "outputs": [],
   "source": [
    "itemIDs = [676,762,774,775\n",
    ",786,818,823,829,833,941\n",
    ",942,944,993,1003\n",
    ",1044,1536,1725,3066,3341,3352\n",
    ",3354,3490,3744\n",
    ",5753,5810,5811,5812,14511,220045,220048,220088\n",
    ",220210,220218,220224,220227,220228\n",
    ",220235,220274,220546,223762\n",
    ",223830,223834,226751]"
   ]
  },
  {
   "cell_type": "code",
   "execution_count": null,
   "metadata": {},
   "outputs": [],
   "source": []
  },
  {
   "cell_type": "code",
   "execution_count": 27,
   "metadata": {},
   "outputs": [],
   "source": [
    "df = pd.read_csv('D:\\DataScience\\MimicDataset\\CHARTEVENTS.csv', nrows=100)"
   ]
  },
  {
   "cell_type": "code",
   "execution_count": 28,
   "metadata": {},
   "outputs": [
    {
     "data": {
      "text/plain": [
       "Index(['ROW_ID', 'SUBJECT_ID', 'HADM_ID', 'ICUSTAY_ID', 'ITEMID', 'CHARTTIME',\n",
       "       'STORETIME', 'CGID', 'VALUE', 'VALUENUM', 'VALUEUOM', 'WARNING',\n",
       "       'ERROR', 'RESULTSTATUS', 'STOPPED'],\n",
       "      dtype='object')"
      ]
     },
     "execution_count": 28,
     "metadata": {},
     "output_type": "execute_result"
    }
   ],
   "source": [
    "df.columns"
   ]
  },
  {
   "cell_type": "code",
   "execution_count": 30,
   "metadata": {
    "scrolled": true
   },
   "outputs": [
    {
     "name": "stderr",
     "output_type": "stream",
     "text": [
      "C:\\Program Files (x86)\\Microsoft Visual Studio\\Shared\\Anaconda3_64\\lib\\site-packages\\IPython\\core\\interactiveshell.py:2785: DtypeWarning: Columns (0,1,2,3,4,7,8,9,11,12,13,14) have mixed types. Specify dtype option on import or set low_memory=False.\n",
      "  interactivity=interactivity, compiler=compiler, result=result)\n"
     ]
    },
    {
     "name": "stdout",
     "output_type": "stream",
     "text": [
      "File Number : 1 Done\n",
      "File Number : 2 Done\n",
      "File Number : 3 Done\n",
      "File Number : 4 Done\n",
      "File Number : 5 Done\n",
      "File Number : 6 Done\n",
      "File Number : 7 Done\n",
      "File Number : 8 Done\n",
      "File Number : 9 Done\n",
      "File Number : 10 Done\n",
      "File Number : 11 Done\n",
      "File Number : 12 Done\n",
      "File Number : 13 Done\n",
      "File Number : 14 Done\n",
      "File Number : 15 Done\n",
      "File Number : 16 Done\n",
      "File Number : 17 Done\n"
     ]
    },
    {
     "name": "stderr",
     "output_type": "stream",
     "text": [
      "C:\\Program Files (x86)\\Microsoft Visual Studio\\Shared\\Anaconda3_64\\lib\\site-packages\\IPython\\core\\interactiveshell.py:2785: DtypeWarning: Columns (8,13,14) have mixed types. Specify dtype option on import or set low_memory=False.\n",
      "  interactivity=interactivity, compiler=compiler, result=result)\n"
     ]
    },
    {
     "name": "stdout",
     "output_type": "stream",
     "text": [
      "File Number : 18 Done\n",
      "File Number : 19 Done\n"
     ]
    },
    {
     "ename": "KeyboardInterrupt",
     "evalue": "",
     "output_type": "error",
     "traceback": [
      "\u001b[1;31m---------------------------------------------------------------------------\u001b[0m",
      "\u001b[1;31mKeyboardInterrupt\u001b[0m                         Traceback (most recent call last)",
      "\u001b[1;32m<ipython-input-30-c70a15ecdd9c>\u001b[0m in \u001b[0;36m<module>\u001b[1;34m()\u001b[0m\n\u001b[0;32m      4\u001b[0m \u001b[1;33m\u001b[0m\u001b[0m\n\u001b[0;32m      5\u001b[0m \u001b[1;32mwhile\u001b[0m \u001b[1;33m(\u001b[0m\u001b[0mcount\u001b[0m \u001b[1;33m<\u001b[0m \u001b[1;36m331\u001b[0m\u001b[1;33m)\u001b[0m\u001b[1;33m:\u001b[0m\u001b[1;33m\u001b[0m\u001b[0m\n\u001b[1;32m----> 6\u001b[1;33m     \u001b[0mdf\u001b[0m \u001b[1;33m=\u001b[0m \u001b[0mpd\u001b[0m\u001b[1;33m.\u001b[0m\u001b[0mread_csv\u001b[0m\u001b[1;33m(\u001b[0m\u001b[1;34m'D:\\DataScience\\MimicDataset\\CHARTEVENTS.csv'\u001b[0m\u001b[1;33m,\u001b[0m \u001b[0mskiprows\u001b[0m\u001b[1;33m=\u001b[0m\u001b[0mskipRows\u001b[0m\u001b[1;33m,\u001b[0m \u001b[0mnrows\u001b[0m\u001b[1;33m=\u001b[0m\u001b[0mnRows\u001b[0m\u001b[1;33m,\u001b[0m \u001b[0mnames\u001b[0m\u001b[1;33m=\u001b[0m\u001b[1;33m[\u001b[0m\u001b[1;34m'ROW_ID'\u001b[0m\u001b[1;33m,\u001b[0m \u001b[1;34m'SUBJECT_ID'\u001b[0m\u001b[1;33m,\u001b[0m \u001b[1;34m'HADM_ID'\u001b[0m\u001b[1;33m,\u001b[0m \u001b[1;34m'ICUSTAY_ID'\u001b[0m\u001b[1;33m,\u001b[0m \u001b[1;34m'ITEMID'\u001b[0m\u001b[1;33m,\u001b[0m \u001b[1;34m'CHARTTIME'\u001b[0m\u001b[1;33m,\u001b[0m\u001b[1;34m'STORETIME'\u001b[0m\u001b[1;33m,\u001b[0m \u001b[1;34m'CGID'\u001b[0m\u001b[1;33m,\u001b[0m \u001b[1;34m'VALUE'\u001b[0m\u001b[1;33m,\u001b[0m \u001b[1;34m'VALUENUM'\u001b[0m\u001b[1;33m,\u001b[0m \u001b[1;34m'VALUEUOM'\u001b[0m\u001b[1;33m,\u001b[0m \u001b[1;34m'WARNING'\u001b[0m\u001b[1;33m,\u001b[0m\u001b[1;34m'ERROR'\u001b[0m\u001b[1;33m,\u001b[0m \u001b[1;34m'RESULTSTATUS'\u001b[0m\u001b[1;33m,\u001b[0m \u001b[1;34m'STOPPED'\u001b[0m\u001b[1;33m]\u001b[0m\u001b[1;33m)\u001b[0m\u001b[1;33m\u001b[0m\u001b[0m\n\u001b[0m\u001b[0;32m      7\u001b[0m \u001b[1;33m\u001b[0m\u001b[0m\n\u001b[0;32m      8\u001b[0m     \u001b[0mdf\u001b[0m \u001b[1;33m=\u001b[0m \u001b[0mdf\u001b[0m\u001b[1;33m[\u001b[0m\u001b[1;33m(\u001b[0m\u001b[0mdf\u001b[0m\u001b[1;33m.\u001b[0m\u001b[0mSUBJECT_ID\u001b[0m\u001b[1;33m.\u001b[0m\u001b[0misin\u001b[0m\u001b[1;33m(\u001b[0m\u001b[0msubIDs\u001b[0m\u001b[1;33m)\u001b[0m\u001b[1;33m)\u001b[0m \u001b[1;33m&\u001b[0m \u001b[1;33m(\u001b[0m\u001b[0mdf\u001b[0m\u001b[1;33m.\u001b[0m\u001b[0mITEMID\u001b[0m\u001b[1;33m.\u001b[0m\u001b[0misin\u001b[0m\u001b[1;33m(\u001b[0m\u001b[0mitemIDs\u001b[0m\u001b[1;33m)\u001b[0m\u001b[1;33m)\u001b[0m\u001b[1;33m]\u001b[0m\u001b[1;33m\u001b[0m\u001b[0m\n",
      "\u001b[1;32mC:\\Program Files (x86)\\Microsoft Visual Studio\\Shared\\Anaconda3_64\\lib\\site-packages\\pandas\\io\\parsers.py\u001b[0m in \u001b[0;36mparser_f\u001b[1;34m(filepath_or_buffer, sep, delimiter, header, names, index_col, usecols, squeeze, prefix, mangle_dupe_cols, dtype, engine, converters, true_values, false_values, skipinitialspace, skiprows, nrows, na_values, keep_default_na, na_filter, verbose, skip_blank_lines, parse_dates, infer_datetime_format, keep_date_col, date_parser, dayfirst, iterator, chunksize, compression, thousands, decimal, lineterminator, quotechar, quoting, escapechar, comment, encoding, dialect, tupleize_cols, error_bad_lines, warn_bad_lines, skipfooter, doublequote, delim_whitespace, low_memory, memory_map, float_precision)\u001b[0m\n\u001b[0;32m    676\u001b[0m                     skip_blank_lines=skip_blank_lines)\n\u001b[0;32m    677\u001b[0m \u001b[1;33m\u001b[0m\u001b[0m\n\u001b[1;32m--> 678\u001b[1;33m         \u001b[1;32mreturn\u001b[0m \u001b[0m_read\u001b[0m\u001b[1;33m(\u001b[0m\u001b[0mfilepath_or_buffer\u001b[0m\u001b[1;33m,\u001b[0m \u001b[0mkwds\u001b[0m\u001b[1;33m)\u001b[0m\u001b[1;33m\u001b[0m\u001b[0m\n\u001b[0m\u001b[0;32m    679\u001b[0m \u001b[1;33m\u001b[0m\u001b[0m\n\u001b[0;32m    680\u001b[0m     \u001b[0mparser_f\u001b[0m\u001b[1;33m.\u001b[0m\u001b[0m__name__\u001b[0m \u001b[1;33m=\u001b[0m \u001b[0mname\u001b[0m\u001b[1;33m\u001b[0m\u001b[0m\n",
      "\u001b[1;32mC:\\Program Files (x86)\\Microsoft Visual Studio\\Shared\\Anaconda3_64\\lib\\site-packages\\pandas\\io\\parsers.py\u001b[0m in \u001b[0;36m_read\u001b[1;34m(filepath_or_buffer, kwds)\u001b[0m\n\u001b[0;32m    444\u001b[0m \u001b[1;33m\u001b[0m\u001b[0m\n\u001b[0;32m    445\u001b[0m     \u001b[1;32mtry\u001b[0m\u001b[1;33m:\u001b[0m\u001b[1;33m\u001b[0m\u001b[0m\n\u001b[1;32m--> 446\u001b[1;33m         \u001b[0mdata\u001b[0m \u001b[1;33m=\u001b[0m \u001b[0mparser\u001b[0m\u001b[1;33m.\u001b[0m\u001b[0mread\u001b[0m\u001b[1;33m(\u001b[0m\u001b[0mnrows\u001b[0m\u001b[1;33m)\u001b[0m\u001b[1;33m\u001b[0m\u001b[0m\n\u001b[0m\u001b[0;32m    447\u001b[0m     \u001b[1;32mfinally\u001b[0m\u001b[1;33m:\u001b[0m\u001b[1;33m\u001b[0m\u001b[0m\n\u001b[0;32m    448\u001b[0m         \u001b[0mparser\u001b[0m\u001b[1;33m.\u001b[0m\u001b[0mclose\u001b[0m\u001b[1;33m(\u001b[0m\u001b[1;33m)\u001b[0m\u001b[1;33m\u001b[0m\u001b[0m\n",
      "\u001b[1;32mC:\\Program Files (x86)\\Microsoft Visual Studio\\Shared\\Anaconda3_64\\lib\\site-packages\\pandas\\io\\parsers.py\u001b[0m in \u001b[0;36mread\u001b[1;34m(self, nrows)\u001b[0m\n\u001b[0;32m   1034\u001b[0m                 \u001b[1;32mraise\u001b[0m \u001b[0mValueError\u001b[0m\u001b[1;33m(\u001b[0m\u001b[1;34m'skipfooter not supported for iteration'\u001b[0m\u001b[1;33m)\u001b[0m\u001b[1;33m\u001b[0m\u001b[0m\n\u001b[0;32m   1035\u001b[0m \u001b[1;33m\u001b[0m\u001b[0m\n\u001b[1;32m-> 1036\u001b[1;33m         \u001b[0mret\u001b[0m \u001b[1;33m=\u001b[0m \u001b[0mself\u001b[0m\u001b[1;33m.\u001b[0m\u001b[0m_engine\u001b[0m\u001b[1;33m.\u001b[0m\u001b[0mread\u001b[0m\u001b[1;33m(\u001b[0m\u001b[0mnrows\u001b[0m\u001b[1;33m)\u001b[0m\u001b[1;33m\u001b[0m\u001b[0m\n\u001b[0m\u001b[0;32m   1037\u001b[0m \u001b[1;33m\u001b[0m\u001b[0m\n\u001b[0;32m   1038\u001b[0m         \u001b[1;31m# May alter columns / col_dict\u001b[0m\u001b[1;33m\u001b[0m\u001b[1;33m\u001b[0m\u001b[0m\n",
      "\u001b[1;32mC:\\Program Files (x86)\\Microsoft Visual Studio\\Shared\\Anaconda3_64\\lib\\site-packages\\pandas\\io\\parsers.py\u001b[0m in \u001b[0;36mread\u001b[1;34m(self, nrows)\u001b[0m\n\u001b[0;32m   1846\u001b[0m     \u001b[1;32mdef\u001b[0m \u001b[0mread\u001b[0m\u001b[1;33m(\u001b[0m\u001b[0mself\u001b[0m\u001b[1;33m,\u001b[0m \u001b[0mnrows\u001b[0m\u001b[1;33m=\u001b[0m\u001b[1;32mNone\u001b[0m\u001b[1;33m)\u001b[0m\u001b[1;33m:\u001b[0m\u001b[1;33m\u001b[0m\u001b[0m\n\u001b[0;32m   1847\u001b[0m         \u001b[1;32mtry\u001b[0m\u001b[1;33m:\u001b[0m\u001b[1;33m\u001b[0m\u001b[0m\n\u001b[1;32m-> 1848\u001b[1;33m             \u001b[0mdata\u001b[0m \u001b[1;33m=\u001b[0m \u001b[0mself\u001b[0m\u001b[1;33m.\u001b[0m\u001b[0m_reader\u001b[0m\u001b[1;33m.\u001b[0m\u001b[0mread\u001b[0m\u001b[1;33m(\u001b[0m\u001b[0mnrows\u001b[0m\u001b[1;33m)\u001b[0m\u001b[1;33m\u001b[0m\u001b[0m\n\u001b[0m\u001b[0;32m   1849\u001b[0m         \u001b[1;32mexcept\u001b[0m \u001b[0mStopIteration\u001b[0m\u001b[1;33m:\u001b[0m\u001b[1;33m\u001b[0m\u001b[0m\n\u001b[0;32m   1850\u001b[0m             \u001b[1;32mif\u001b[0m \u001b[0mself\u001b[0m\u001b[1;33m.\u001b[0m\u001b[0m_first_chunk\u001b[0m\u001b[1;33m:\u001b[0m\u001b[1;33m\u001b[0m\u001b[0m\n",
      "\u001b[1;32mpandas\\_libs\\parsers.pyx\u001b[0m in \u001b[0;36mpandas._libs.parsers.TextReader.read\u001b[1;34m()\u001b[0m\n",
      "\u001b[1;32mpandas\\_libs\\parsers.pyx\u001b[0m in \u001b[0;36mpandas._libs.parsers.TextReader._read_low_memory\u001b[1;34m()\u001b[0m\n",
      "\u001b[1;32mpandas\\_libs\\parsers.pyx\u001b[0m in \u001b[0;36mpandas._libs.parsers.TextReader._read_rows\u001b[1;34m()\u001b[0m\n",
      "\u001b[1;32mpandas\\_libs\\parsers.pyx\u001b[0m in \u001b[0;36mpandas._libs.parsers.TextReader._convert_column_data\u001b[1;34m()\u001b[0m\n",
      "\u001b[1;32mpandas\\_libs\\parsers.pyx\u001b[0m in \u001b[0;36mpandas._libs.parsers.TextReader._convert_tokens\u001b[1;34m()\u001b[0m\n",
      "\u001b[1;32mpandas\\_libs\\parsers.pyx\u001b[0m in \u001b[0;36mpandas._libs.parsers.TextReader._convert_with_dtype\u001b[1;34m()\u001b[0m\n",
      "\u001b[1;32mC:\\Program Files (x86)\\Microsoft Visual Studio\\Shared\\Anaconda3_64\\lib\\site-packages\\pandas\\core\\dtypes\\common.py\u001b[0m in \u001b[0;36mis_integer_dtype\u001b[1;34m(arr_or_dtype)\u001b[0m\n\u001b[0;32m    809\u001b[0m \u001b[1;33m\u001b[0m\u001b[0m\n\u001b[0;32m    810\u001b[0m \u001b[1;33m\u001b[0m\u001b[0m\n\u001b[1;32m--> 811\u001b[1;33m \u001b[1;32mdef\u001b[0m \u001b[0mis_integer_dtype\u001b[0m\u001b[1;33m(\u001b[0m\u001b[0marr_or_dtype\u001b[0m\u001b[1;33m)\u001b[0m\u001b[1;33m:\u001b[0m\u001b[1;33m\u001b[0m\u001b[0m\n\u001b[0m\u001b[0;32m    812\u001b[0m     \"\"\"\n\u001b[0;32m    813\u001b[0m     \u001b[0mCheck\u001b[0m \u001b[0mwhether\u001b[0m \u001b[0mthe\u001b[0m \u001b[0mprovided\u001b[0m \u001b[0marray\u001b[0m \u001b[1;32mor\u001b[0m \u001b[0mdtype\u001b[0m \u001b[1;32mis\u001b[0m \u001b[0mof\u001b[0m \u001b[0man\u001b[0m \u001b[0minteger\u001b[0m \u001b[0mdtype\u001b[0m\u001b[1;33m.\u001b[0m\u001b[1;33m\u001b[0m\u001b[0m\n",
      "\u001b[1;31mKeyboardInterrupt\u001b[0m: "
     ]
    }
   ],
   "source": [
    "skipRows = 0\n",
    "nRows = 1000000\n",
    "count = 1\n",
    "\n",
    "while (count < 331):\n",
    "    df = pd.read_csv('D:\\DataScience\\MimicDataset\\CHARTEVENTS.csv', skiprows=skipRows, nrows=nRows, names=['ROW_ID', 'SUBJECT_ID', 'HADM_ID', 'ICUSTAY_ID', 'ITEMID', 'CHARTTIME','STORETIME', 'CGID', 'VALUE', 'VALUENUM', 'VALUEUOM', 'WARNING','ERROR', 'RESULTSTATUS', 'STOPPED'])\n",
    "    \n",
    "    df = df[(df.SUBJECT_ID.isin(subIDs)) & (df.ITEMID.isin(itemIDs))]\n",
    "    df = df[['SUBJECT_ID','HADM_ID','ICUSTAY_ID','ITEMID','VALUE']]\n",
    "    \n",
    "    df.to_csv(str(count) + '_new.csv', index = False)\n",
    "    \n",
    "    print('File Number : '+ str(count) + ' Done')\n",
    "    \n",
    "    count += 1\n",
    "    skipRows += 1000000\n",
    "    nRows += 1000000"
   ]
  },
  {
   "cell_type": "code",
   "execution_count": 7,
   "metadata": {},
   "outputs": [
    {
     "name": "stdout",
     "output_type": "stream",
     "text": [
      "File Number : 0 Done\n",
      "File Number : 1 Done\n",
      "File Number : 2 Done\n",
      "File Number : 3 Done\n",
      "File Number : 4 Done\n",
      "File Number : 5 Done\n"
     ]
    },
    {
     "name": "stderr",
     "output_type": "stream",
     "text": [
      "C:\\Program Files (x86)\\Microsoft Visual Studio\\Shared\\Anaconda3_64\\lib\\site-packages\\IPython\\core\\interactiveshell.py:2785: DtypeWarning: Columns (8,13,14) have mixed types. Specify dtype option on import or set low_memory=False.\n",
      "  interactivity=interactivity, compiler=compiler, result=result)\n"
     ]
    },
    {
     "name": "stdout",
     "output_type": "stream",
     "text": [
      "File Number : 6 Done\n",
      "File Number : 7 Done\n",
      "File Number : 8 Done\n",
      "File Number : 9 Done\n",
      "File Number : 10 Done\n",
      "File Number : 11 Done\n",
      "File Number : 12 Done\n",
      "File Number : 13 Done\n",
      "File Number : 14 Done\n",
      "File Number : 15 Done\n",
      "File Number : 16 Done\n",
      "File Number : 17 Done\n",
      "File Number : 18 Done\n",
      "File Number : 19 Done\n",
      "File Number : 20 Done\n",
      "File Number : 21 Done\n",
      "File Number : 22 Done\n",
      "File Number : 23 Done\n",
      "File Number : 24 Done\n",
      "File Number : 25 Done\n",
      "File Number : 26 Done\n",
      "File Number : 27 Done\n",
      "File Number : 28 Done\n",
      "File Number : 29 Done\n",
      "File Number : 30 Done\n",
      "File Number : 31 Done\n",
      "File Number : 32 Done\n",
      "File Number : 33 Done\n",
      "File Number : 34 Done\n",
      "File Number : 35 Done\n",
      "File Number : 36 Done\n",
      "File Number : 37 Done\n"
     ]
    },
    {
     "name": "stderr",
     "output_type": "stream",
     "text": [
      "C:\\Program Files (x86)\\Microsoft Visual Studio\\Shared\\Anaconda3_64\\lib\\site-packages\\IPython\\core\\interactiveshell.py:2785: DtypeWarning: Columns (13) have mixed types. Specify dtype option on import or set low_memory=False.\n",
      "  interactivity=interactivity, compiler=compiler, result=result)\n"
     ]
    },
    {
     "name": "stdout",
     "output_type": "stream",
     "text": [
      "File Number : 38 Done\n",
      "File Number : 39 Done\n",
      "File Number : 40 Done\n",
      "File Number : 41 Done\n",
      "File Number : 42 Done\n",
      "File Number : 43 Done\n",
      "File Number : 44 Done\n",
      "File Number : 45 Done\n",
      "File Number : 46 Done\n",
      "File Number : 47 Done\n",
      "File Number : 48 Done\n",
      "File Number : 49 Done\n",
      "File Number : 50 Done\n"
     ]
    },
    {
     "name": "stderr",
     "output_type": "stream",
     "text": [
      "C:\\Program Files (x86)\\Microsoft Visual Studio\\Shared\\Anaconda3_64\\lib\\site-packages\\IPython\\core\\interactiveshell.py:2785: DtypeWarning: Columns (8,10,14) have mixed types. Specify dtype option on import or set low_memory=False.\n",
      "  interactivity=interactivity, compiler=compiler, result=result)\n"
     ]
    },
    {
     "name": "stdout",
     "output_type": "stream",
     "text": [
      "File Number : 51 Done\n"
     ]
    },
    {
     "name": "stderr",
     "output_type": "stream",
     "text": [
      "C:\\Program Files (x86)\\Microsoft Visual Studio\\Shared\\Anaconda3_64\\lib\\site-packages\\IPython\\core\\interactiveshell.py:2785: DtypeWarning: Columns (8) have mixed types. Specify dtype option on import or set low_memory=False.\n",
      "  interactivity=interactivity, compiler=compiler, result=result)\n"
     ]
    },
    {
     "name": "stdout",
     "output_type": "stream",
     "text": [
      "File Number : 52 Done\n",
      "File Number : 53 Done\n",
      "File Number : 54 Done\n",
      "File Number : 55 Done\n",
      "File Number : 56 Done\n",
      "File Number : 57 Done\n",
      "File Number : 58 Done\n",
      "File Number : 59 Done\n",
      "File Number : 60 Done\n",
      "File Number : 61 Done\n",
      "File Number : 62 Done\n",
      "File Number : 63 Done\n",
      "File Number : 64 Done\n",
      "File Number : 65 Done\n",
      "File Number : 66 Done\n"
     ]
    }
   ],
   "source": [
    "reader = pd.read_csv('D:\\DataScience\\MimicDataset\\CHARTEVENTS.csv', sep=',', chunksize=5*10**6)\n",
    "\n",
    "count = 0\n",
    "for df in reader:\n",
    "    # do something with df\n",
    "    df = df[(df.SUBJECT_ID.isin(subIDs)) & (df.ITEMID.isin(itemIDs))]\n",
    "    df = df[['SUBJECT_ID','HADM_ID','ICUSTAY_ID','ITEMID','VALUE']]\n",
    "    \n",
    "    df.to_csv(str(count) + '_Chunk.csv', index = False)\n",
    "    \n",
    "    print('File Number : '+ str(count) + ' Done')\n",
    "    count = count + 1"
   ]
  },
  {
   "cell_type": "code",
   "execution_count": null,
   "metadata": {},
   "outputs": [],
   "source": []
  }
 ],
 "metadata": {
  "kernelspec": {
   "display_name": "Python 3",
   "language": "python",
   "name": "python3"
  },
  "language_info": {
   "codemirror_mode": {
    "name": "ipython",
    "version": 3
   },
   "file_extension": ".py",
   "mimetype": "text/x-python",
   "name": "python",
   "nbconvert_exporter": "python",
   "pygments_lexer": "ipython3",
   "version": "3.6.5"
  }
 },
 "nbformat": 4,
 "nbformat_minor": 2
}
