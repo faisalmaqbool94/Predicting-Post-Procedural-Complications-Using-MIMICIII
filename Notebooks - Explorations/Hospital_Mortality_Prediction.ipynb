{
 "cells": [
  {
   "cell_type": "markdown",
   "metadata": {},
   "source": [
    "# Hospital Mortality Prediction"
   ]
  },
  {
   "cell_type": "code",
   "execution_count": 46,
   "metadata": {
    "_cell_guid": "b1076dfc-b9ad-4769-8c92-a6c4dae69d19",
    "_uuid": "8f2839f25d086af736a60e9eeb907d3b93b6e0e5"
   },
   "outputs": [],
   "source": [
    "import pandas as pd\n",
    "import numpy as np\n",
    "import random as rnd\n",
    "import pprint\n",
    "from itertools import cycle, islice\n",
    "import numpy as np\n",
    "import matplotlib.pyplot as plt"
   ]
  },
  {
   "cell_type": "code",
   "execution_count": 2,
   "metadata": {},
   "outputs": [],
   "source": [
    "from scipy.stats import multivariate_normal\n",
    "\n",
    "from sklearn.model_selection import train_test_split\n",
    "from sklearn import model_selection, preprocessing\n",
    "from sklearn.metrics import classification_report, confusion_matrix, accuracy_score\n",
    "from sklearn.model_selection import cross_val_score, GridSearchCV, RandomizedSearchCV,KFold, cross_val_predict, StratifiedKFold, train_test_split, learning_curve, ShuffleSplit\n",
    "from sklearn.linear_model import LogisticRegression\n",
    "from sklearn.tree import DecisionTreeClassifier\n",
    "from sklearn.neighbors import KNeighborsClassifier\n",
    "from sklearn.discriminant_analysis import LinearDiscriminantAnalysis\n",
    "from sklearn.naive_bayes import GaussianNB\n",
    "from sklearn.svm import SVC \n",
    "from sklearn.linear_model import SGDClassifier\n",
    "from sklearn.ensemble import RandomForestClassifier\n",
    "from sklearn.model_selection import GridSearchCV, ShuffleSplit\n",
    "from sklearn.metrics import confusion_matrix, precision_score, recall_score, accuracy_score, f1_score\n",
    "from sklearn.model_selection import cross_val_predict\n",
    "from sklearn.metrics import confusion_matrix\n",
    "from sklearn.metrics import precision_recall_curve, average_precision_score, auc\n",
    "from sklearn.utils.fixes import signature\n",
    "\n",
    "from sklearn.decomposition import PCA\n",
    "\n",
    "from sklearn.metrics import roc_curve\n",
    "from sklearn.metrics import roc_auc_score"
   ]
  },
  {
   "cell_type": "code",
   "execution_count": 3,
   "metadata": {},
   "outputs": [],
   "source": [
    "import seaborn as sns\n",
    "import matplotlib.pyplot as plt\n",
    "%matplotlib inline"
   ]
  },
  {
   "cell_type": "code",
   "execution_count": 4,
   "metadata": {},
   "outputs": [
    {
     "name": "stderr",
     "output_type": "stream",
     "text": [
      "Using TensorFlow backend.\n"
     ]
    }
   ],
   "source": [
    "import tensorflow as tf\n",
    "\n",
    "from keras import models, regularizers, layers, optimizers, losses, metrics\n",
    "from keras.models import Sequential\n",
    "from keras.layers import Dense\n",
    "from keras.utils import np_utils\n",
    "\n",
    "import warnings\n",
    "warnings.filterwarnings('ignore')\n",
    "import os"
   ]
  },
  {
   "cell_type": "code",
   "execution_count": 5,
   "metadata": {
    "_cell_guid": "79c7e3d0-c299-4dcb-8224-4455121ee9b0",
    "_uuid": "d629ff2d2480ee46fbb7e2d37f6b5fab8052498a"
   },
   "outputs": [
    {
     "name": "stdout",
     "output_type": "stream",
     "text": [
      "With id (58976, 28)\n"
     ]
    }
   ],
   "source": [
    "# Loading dataset\n",
    "\n",
    "data = pd.read_csv('mimic3c.csv')"
   ]
  },
  {
   "cell_type": "code",
   "execution_count": 7,
   "metadata": {},
   "outputs": [
    {
     "data": {
      "text/html": [
       "<div>\n",
       "<style scoped>\n",
       "    .dataframe tbody tr th:only-of-type {\n",
       "        vertical-align: middle;\n",
       "    }\n",
       "\n",
       "    .dataframe tbody tr th {\n",
       "        vertical-align: top;\n",
       "    }\n",
       "\n",
       "    .dataframe thead th {\n",
       "        text-align: right;\n",
       "    }\n",
       "</style>\n",
       "<table border=\"1\" class=\"dataframe\">\n",
       "  <thead>\n",
       "    <tr style=\"text-align: right;\">\n",
       "      <th></th>\n",
       "      <th>hadm_id</th>\n",
       "      <th>gender</th>\n",
       "      <th>age</th>\n",
       "      <th>LOSdays</th>\n",
       "      <th>admit_type</th>\n",
       "      <th>admit_location</th>\n",
       "      <th>AdmitDiagnosis</th>\n",
       "      <th>insurance</th>\n",
       "      <th>religion</th>\n",
       "      <th>marital_status</th>\n",
       "      <th>...</th>\n",
       "      <th>NumMicroLabs</th>\n",
       "      <th>NumNotes</th>\n",
       "      <th>NumOutput</th>\n",
       "      <th>NumRx</th>\n",
       "      <th>NumProcEvents</th>\n",
       "      <th>NumTransfers</th>\n",
       "      <th>NumChartEvents</th>\n",
       "      <th>ExpiredHospital</th>\n",
       "      <th>TotalNumInteract</th>\n",
       "      <th>LOSgroupNum</th>\n",
       "    </tr>\n",
       "  </thead>\n",
       "  <tbody>\n",
       "    <tr>\n",
       "      <th>0</th>\n",
       "      <td>100001</td>\n",
       "      <td>F</td>\n",
       "      <td>35</td>\n",
       "      <td>6.17</td>\n",
       "      <td>EMERGENCY</td>\n",
       "      <td>CLINIC REFERRAL/PREMATURE</td>\n",
       "      <td>DIABETIC KETOACIDOSIS</td>\n",
       "      <td>Private</td>\n",
       "      <td>PROTESTANT QUAKER</td>\n",
       "      <td>DIVORCED</td>\n",
       "      <td>...</td>\n",
       "      <td>0.65</td>\n",
       "      <td>0.05</td>\n",
       "      <td>5.19</td>\n",
       "      <td>14.91</td>\n",
       "      <td>1.13</td>\n",
       "      <td>0.65</td>\n",
       "      <td>398.70</td>\n",
       "      <td>0</td>\n",
       "      <td>493.89</td>\n",
       "      <td>2</td>\n",
       "    </tr>\n",
       "    <tr>\n",
       "      <th>1</th>\n",
       "      <td>100003</td>\n",
       "      <td>M</td>\n",
       "      <td>59</td>\n",
       "      <td>4.04</td>\n",
       "      <td>EMERGENCY</td>\n",
       "      <td>EMERGENCY ROOM ADMIT</td>\n",
       "      <td>UPPER GI BLEED</td>\n",
       "      <td>Private</td>\n",
       "      <td>NOT SPECIFIED</td>\n",
       "      <td>SINGLE</td>\n",
       "      <td>...</td>\n",
       "      <td>1.24</td>\n",
       "      <td>1.59</td>\n",
       "      <td>5.45</td>\n",
       "      <td>7.18</td>\n",
       "      <td>0.99</td>\n",
       "      <td>1.24</td>\n",
       "      <td>373.02</td>\n",
       "      <td>0</td>\n",
       "      <td>465.71</td>\n",
       "      <td>2</td>\n",
       "    </tr>\n",
       "    <tr>\n",
       "      <th>2</th>\n",
       "      <td>100006</td>\n",
       "      <td>F</td>\n",
       "      <td>48</td>\n",
       "      <td>12.04</td>\n",
       "      <td>EMERGENCY</td>\n",
       "      <td>EMERGENCY ROOM ADMIT</td>\n",
       "      <td>COPD FLARE</td>\n",
       "      <td>Private</td>\n",
       "      <td>NOT SPECIFIED</td>\n",
       "      <td>SINGLE</td>\n",
       "      <td>...</td>\n",
       "      <td>0.33</td>\n",
       "      <td>0.15</td>\n",
       "      <td>4.15</td>\n",
       "      <td>6.23</td>\n",
       "      <td>0.00</td>\n",
       "      <td>0.33</td>\n",
       "      <td>286.21</td>\n",
       "      <td>0</td>\n",
       "      <td>344.00</td>\n",
       "      <td>4</td>\n",
       "    </tr>\n",
       "    <tr>\n",
       "      <th>3</th>\n",
       "      <td>100007</td>\n",
       "      <td>F</td>\n",
       "      <td>73</td>\n",
       "      <td>7.29</td>\n",
       "      <td>EMERGENCY</td>\n",
       "      <td>EMERGENCY ROOM ADMIT</td>\n",
       "      <td>BOWEL OBSTRUCTION</td>\n",
       "      <td>Private</td>\n",
       "      <td>JEWISH</td>\n",
       "      <td>MARRIED</td>\n",
       "      <td>...</td>\n",
       "      <td>0.69</td>\n",
       "      <td>0.17</td>\n",
       "      <td>9.05</td>\n",
       "      <td>11.52</td>\n",
       "      <td>0.00</td>\n",
       "      <td>0.96</td>\n",
       "      <td>526.06</td>\n",
       "      <td>0</td>\n",
       "      <td>603.05</td>\n",
       "      <td>2</td>\n",
       "    </tr>\n",
       "    <tr>\n",
       "      <th>4</th>\n",
       "      <td>100009</td>\n",
       "      <td>M</td>\n",
       "      <td>60</td>\n",
       "      <td>4.88</td>\n",
       "      <td>EMERGENCY</td>\n",
       "      <td>TRANSFER FROM HOSP/EXTRAM</td>\n",
       "      <td>CORONARY ARTERY DISEASE</td>\n",
       "      <td>Private</td>\n",
       "      <td>CATHOLIC</td>\n",
       "      <td>MARRIED</td>\n",
       "      <td>...</td>\n",
       "      <td>0.61</td>\n",
       "      <td>0.34</td>\n",
       "      <td>16.19</td>\n",
       "      <td>25.00</td>\n",
       "      <td>2.87</td>\n",
       "      <td>2.05</td>\n",
       "      <td>554.92</td>\n",
       "      <td>0</td>\n",
       "      <td>679.84</td>\n",
       "      <td>2</td>\n",
       "    </tr>\n",
       "  </tbody>\n",
       "</table>\n",
       "<p>5 rows × 28 columns</p>\n",
       "</div>"
      ],
      "text/plain": [
       "   hadm_id gender  age  LOSdays admit_type             admit_location  \\\n",
       "0   100001      F   35     6.17  EMERGENCY  CLINIC REFERRAL/PREMATURE   \n",
       "1   100003      M   59     4.04  EMERGENCY       EMERGENCY ROOM ADMIT   \n",
       "2   100006      F   48    12.04  EMERGENCY       EMERGENCY ROOM ADMIT   \n",
       "3   100007      F   73     7.29  EMERGENCY       EMERGENCY ROOM ADMIT   \n",
       "4   100009      M   60     4.88  EMERGENCY  TRANSFER FROM HOSP/EXTRAM   \n",
       "\n",
       "            AdmitDiagnosis insurance           religion marital_status  \\\n",
       "0    DIABETIC KETOACIDOSIS   Private  PROTESTANT QUAKER       DIVORCED   \n",
       "1           UPPER GI BLEED   Private      NOT SPECIFIED         SINGLE   \n",
       "2               COPD FLARE   Private      NOT SPECIFIED         SINGLE   \n",
       "3        BOWEL OBSTRUCTION   Private             JEWISH        MARRIED   \n",
       "4  CORONARY ARTERY DISEASE   Private           CATHOLIC        MARRIED   \n",
       "\n",
       "      ...      NumMicroLabs  NumNotes  NumOutput  NumRx NumProcEvents  \\\n",
       "0     ...              0.65      0.05       5.19  14.91          1.13   \n",
       "1     ...              1.24      1.59       5.45   7.18          0.99   \n",
       "2     ...              0.33      0.15       4.15   6.23          0.00   \n",
       "3     ...              0.69      0.17       9.05  11.52          0.00   \n",
       "4     ...              0.61      0.34      16.19  25.00          2.87   \n",
       "\n",
       "   NumTransfers  NumChartEvents  ExpiredHospital  TotalNumInteract  \\\n",
       "0          0.65          398.70                0            493.89   \n",
       "1          1.24          373.02                0            465.71   \n",
       "2          0.33          286.21                0            344.00   \n",
       "3          0.96          526.06                0            603.05   \n",
       "4          2.05          554.92                0            679.84   \n",
       "\n",
       "   LOSgroupNum  \n",
       "0            2  \n",
       "1            2  \n",
       "2            4  \n",
       "3            2  \n",
       "4            2  \n",
       "\n",
       "[5 rows x 28 columns]"
      ]
     },
     "execution_count": 7,
     "metadata": {},
     "output_type": "execute_result"
    }
   ],
   "source": [
    "data.head()"
   ]
  },
  {
   "cell_type": "code",
   "execution_count": 9,
   "metadata": {
    "scrolled": true
   },
   "outputs": [
    {
     "name": "stdout",
     "output_type": "stream",
     "text": [
      "No id (58976, 27)\n"
     ]
    }
   ],
   "source": [
    "data_full = data.drop('hadm_id', 1)\n",
    "print(\"No id\",data_full.shape)"
   ]
  },
  {
   "cell_type": "markdown",
   "metadata": {},
   "source": [
    "# Data Description"
   ]
  },
  {
   "cell_type": "code",
   "execution_count": 10,
   "metadata": {
    "_uuid": "4caf0527fb3aa5e487ae32aa3ddc88e402c881ac",
    "scrolled": true
   },
   "outputs": [
    {
     "name": "stdout",
     "output_type": "stream",
     "text": [
      "(58976, 27)\n",
      "<class 'pandas.core.frame.DataFrame'>\n",
      "RangeIndex: 58976 entries, 0 to 58975\n",
      "Data columns (total 27 columns):\n",
      "gender              58976 non-null object\n",
      "age                 58976 non-null int64\n",
      "LOSdays             58976 non-null float64\n",
      "admit_type          58976 non-null object\n",
      "admit_location      58976 non-null object\n",
      "AdmitDiagnosis      58951 non-null object\n",
      "insurance           58976 non-null object\n",
      "religion            58518 non-null object\n",
      "marital_status      48848 non-null object\n",
      "ethnicity           58976 non-null object\n",
      "NumCallouts         58976 non-null float64\n",
      "NumDiagnosis        58976 non-null float64\n",
      "NumProcs            58976 non-null float64\n",
      "AdmitProcedure      58976 non-null object\n",
      "NumCPTevents        58976 non-null float64\n",
      "NumInput            58976 non-null float64\n",
      "NumLabs             58976 non-null float64\n",
      "NumMicroLabs        58976 non-null float64\n",
      "NumNotes            58976 non-null float64\n",
      "NumOutput           58976 non-null float64\n",
      "NumRx               58976 non-null float64\n",
      "NumProcEvents       58976 non-null float64\n",
      "NumTransfers        58976 non-null float64\n",
      "NumChartEvents      58976 non-null float64\n",
      "ExpiredHospital     58976 non-null int64\n",
      "TotalNumInteract    58976 non-null float64\n",
      "LOSgroupNum         58976 non-null int64\n",
      "dtypes: float64(15), int64(3), object(9)\n",
      "memory usage: 12.1+ MB\n"
     ]
    },
    {
     "data": {
      "text/html": [
       "<div>\n",
       "<style scoped>\n",
       "    .dataframe tbody tr th:only-of-type {\n",
       "        vertical-align: middle;\n",
       "    }\n",
       "\n",
       "    .dataframe tbody tr th {\n",
       "        vertical-align: top;\n",
       "    }\n",
       "\n",
       "    .dataframe thead th {\n",
       "        text-align: right;\n",
       "    }\n",
       "</style>\n",
       "<table border=\"1\" class=\"dataframe\">\n",
       "  <thead>\n",
       "    <tr style=\"text-align: right;\">\n",
       "      <th></th>\n",
       "      <th>age</th>\n",
       "      <th>LOSdays</th>\n",
       "      <th>NumCallouts</th>\n",
       "      <th>NumDiagnosis</th>\n",
       "      <th>NumProcs</th>\n",
       "      <th>NumCPTevents</th>\n",
       "      <th>NumInput</th>\n",
       "      <th>NumLabs</th>\n",
       "      <th>NumMicroLabs</th>\n",
       "      <th>NumNotes</th>\n",
       "      <th>NumOutput</th>\n",
       "      <th>NumRx</th>\n",
       "      <th>NumProcEvents</th>\n",
       "      <th>NumTransfers</th>\n",
       "      <th>NumChartEvents</th>\n",
       "      <th>ExpiredHospital</th>\n",
       "      <th>TotalNumInteract</th>\n",
       "      <th>LOSgroupNum</th>\n",
       "    </tr>\n",
       "  </thead>\n",
       "  <tbody>\n",
       "    <tr>\n",
       "      <th>count</th>\n",
       "      <td>58976.000000</td>\n",
       "      <td>58976.000000</td>\n",
       "      <td>58976.000000</td>\n",
       "      <td>58976.00000</td>\n",
       "      <td>58976.000000</td>\n",
       "      <td>58976.000000</td>\n",
       "      <td>58976.000000</td>\n",
       "      <td>58976.000000</td>\n",
       "      <td>58976.000000</td>\n",
       "      <td>58976.000000</td>\n",
       "      <td>58976.000000</td>\n",
       "      <td>58976.000000</td>\n",
       "      <td>58976.000000</td>\n",
       "      <td>58976.000000</td>\n",
       "      <td>58976.000000</td>\n",
       "      <td>58976.000000</td>\n",
       "      <td>58976.000000</td>\n",
       "      <td>58976.000000</td>\n",
       "    </tr>\n",
       "    <tr>\n",
       "      <th>mean</th>\n",
       "      <td>53.005884</td>\n",
       "      <td>10.114955</td>\n",
       "      <td>0.099374</td>\n",
       "      <td>2.67596</td>\n",
       "      <td>0.785599</td>\n",
       "      <td>1.074118</td>\n",
       "      <td>30.379017</td>\n",
       "      <td>46.421124</td>\n",
       "      <td>1.219913</td>\n",
       "      <td>6.464789</td>\n",
       "      <td>7.111594</td>\n",
       "      <td>9.593702</td>\n",
       "      <td>0.691903</td>\n",
       "      <td>1.093313</td>\n",
       "      <td>528.505172</td>\n",
       "      <td>0.099261</td>\n",
       "      <td>636.115579</td>\n",
       "      <td>2.360248</td>\n",
       "    </tr>\n",
       "    <tr>\n",
       "      <th>std</th>\n",
       "      <td>26.028120</td>\n",
       "      <td>12.456231</td>\n",
       "      <td>0.163437</td>\n",
       "      <td>8.26559</td>\n",
       "      <td>3.558090</td>\n",
       "      <td>2.027148</td>\n",
       "      <td>62.430163</td>\n",
       "      <td>76.061561</td>\n",
       "      <td>4.236693</td>\n",
       "      <td>106.709903</td>\n",
       "      <td>7.551822</td>\n",
       "      <td>12.601338</td>\n",
       "      <td>2.117615</td>\n",
       "      <td>3.169441</td>\n",
       "      <td>640.250063</td>\n",
       "      <td>0.299014</td>\n",
       "      <td>783.938087</td>\n",
       "      <td>1.130337</td>\n",
       "    </tr>\n",
       "    <tr>\n",
       "      <th>min</th>\n",
       "      <td>0.000000</td>\n",
       "      <td>0.000000</td>\n",
       "      <td>0.000000</td>\n",
       "      <td>0.00000</td>\n",
       "      <td>0.000000</td>\n",
       "      <td>0.000000</td>\n",
       "      <td>0.000000</td>\n",
       "      <td>0.000000</td>\n",
       "      <td>0.000000</td>\n",
       "      <td>0.000000</td>\n",
       "      <td>0.000000</td>\n",
       "      <td>0.000000</td>\n",
       "      <td>0.000000</td>\n",
       "      <td>0.000000</td>\n",
       "      <td>0.000000</td>\n",
       "      <td>0.000000</td>\n",
       "      <td>0.000000</td>\n",
       "      <td>1.000000</td>\n",
       "    </tr>\n",
       "    <tr>\n",
       "      <th>25%</th>\n",
       "      <td>43.000000</td>\n",
       "      <td>3.710000</td>\n",
       "      <td>0.000000</td>\n",
       "      <td>0.82000</td>\n",
       "      <td>0.210000</td>\n",
       "      <td>0.000000</td>\n",
       "      <td>4.850000</td>\n",
       "      <td>26.980000</td>\n",
       "      <td>0.160000</td>\n",
       "      <td>0.140000</td>\n",
       "      <td>1.750000</td>\n",
       "      <td>4.330000</td>\n",
       "      <td>0.000000</td>\n",
       "      <td>0.380000</td>\n",
       "      <td>207.410000</td>\n",
       "      <td>0.000000</td>\n",
       "      <td>267.407500</td>\n",
       "      <td>1.000000</td>\n",
       "    </tr>\n",
       "    <tr>\n",
       "      <th>50%</th>\n",
       "      <td>59.000000</td>\n",
       "      <td>6.460000</td>\n",
       "      <td>0.000000</td>\n",
       "      <td>1.41000</td>\n",
       "      <td>0.420000</td>\n",
       "      <td>0.970000</td>\n",
       "      <td>13.990000</td>\n",
       "      <td>38.520000</td>\n",
       "      <td>0.510000</td>\n",
       "      <td>0.330000</td>\n",
       "      <td>5.310000</td>\n",
       "      <td>8.370000</td>\n",
       "      <td>0.000000</td>\n",
       "      <td>0.650000</td>\n",
       "      <td>417.875000</td>\n",
       "      <td>0.000000</td>\n",
       "      <td>497.335000</td>\n",
       "      <td>2.000000</td>\n",
       "    </tr>\n",
       "    <tr>\n",
       "      <th>75%</th>\n",
       "      <td>73.000000</td>\n",
       "      <td>11.790000</td>\n",
       "      <td>0.160000</td>\n",
       "      <td>2.40000</td>\n",
       "      <td>0.710000</td>\n",
       "      <td>1.560000</td>\n",
       "      <td>34.360000</td>\n",
       "      <td>50.860000</td>\n",
       "      <td>1.350000</td>\n",
       "      <td>0.770000</td>\n",
       "      <td>10.490000</td>\n",
       "      <td>12.270000</td>\n",
       "      <td>0.880000</td>\n",
       "      <td>1.060000</td>\n",
       "      <td>700.302500</td>\n",
       "      <td>0.000000</td>\n",
       "      <td>811.382500</td>\n",
       "      <td>3.000000</td>\n",
       "    </tr>\n",
       "    <tr>\n",
       "      <th>max</th>\n",
       "      <td>89.000000</td>\n",
       "      <td>294.630000</td>\n",
       "      <td>4.760000</td>\n",
       "      <td>450.00000</td>\n",
       "      <td>275.000000</td>\n",
       "      <td>225.000000</td>\n",
       "      <td>6825.000000</td>\n",
       "      <td>5175.000000</td>\n",
       "      <td>375.000000</td>\n",
       "      <td>7500.000000</td>\n",
       "      <td>375.000000</td>\n",
       "      <td>750.000000</td>\n",
       "      <td>100.000000</td>\n",
       "      <td>125.000000</td>\n",
       "      <td>49325.000000</td>\n",
       "      <td>1.000000</td>\n",
       "      <td>68600.000000</td>\n",
       "      <td>4.000000</td>\n",
       "    </tr>\n",
       "  </tbody>\n",
       "</table>\n",
       "</div>"
      ],
      "text/plain": [
       "                age       LOSdays   NumCallouts  NumDiagnosis      NumProcs  \\\n",
       "count  58976.000000  58976.000000  58976.000000   58976.00000  58976.000000   \n",
       "mean      53.005884     10.114955      0.099374       2.67596      0.785599   \n",
       "std       26.028120     12.456231      0.163437       8.26559      3.558090   \n",
       "min        0.000000      0.000000      0.000000       0.00000      0.000000   \n",
       "25%       43.000000      3.710000      0.000000       0.82000      0.210000   \n",
       "50%       59.000000      6.460000      0.000000       1.41000      0.420000   \n",
       "75%       73.000000     11.790000      0.160000       2.40000      0.710000   \n",
       "max       89.000000    294.630000      4.760000     450.00000    275.000000   \n",
       "\n",
       "       NumCPTevents      NumInput       NumLabs  NumMicroLabs      NumNotes  \\\n",
       "count  58976.000000  58976.000000  58976.000000  58976.000000  58976.000000   \n",
       "mean       1.074118     30.379017     46.421124      1.219913      6.464789   \n",
       "std        2.027148     62.430163     76.061561      4.236693    106.709903   \n",
       "min        0.000000      0.000000      0.000000      0.000000      0.000000   \n",
       "25%        0.000000      4.850000     26.980000      0.160000      0.140000   \n",
       "50%        0.970000     13.990000     38.520000      0.510000      0.330000   \n",
       "75%        1.560000     34.360000     50.860000      1.350000      0.770000   \n",
       "max      225.000000   6825.000000   5175.000000    375.000000   7500.000000   \n",
       "\n",
       "          NumOutput         NumRx  NumProcEvents  NumTransfers  \\\n",
       "count  58976.000000  58976.000000   58976.000000  58976.000000   \n",
       "mean       7.111594      9.593702       0.691903      1.093313   \n",
       "std        7.551822     12.601338       2.117615      3.169441   \n",
       "min        0.000000      0.000000       0.000000      0.000000   \n",
       "25%        1.750000      4.330000       0.000000      0.380000   \n",
       "50%        5.310000      8.370000       0.000000      0.650000   \n",
       "75%       10.490000     12.270000       0.880000      1.060000   \n",
       "max      375.000000    750.000000     100.000000    125.000000   \n",
       "\n",
       "       NumChartEvents  ExpiredHospital  TotalNumInteract   LOSgroupNum  \n",
       "count    58976.000000     58976.000000      58976.000000  58976.000000  \n",
       "mean       528.505172         0.099261        636.115579      2.360248  \n",
       "std        640.250063         0.299014        783.938087      1.130337  \n",
       "min          0.000000         0.000000          0.000000      1.000000  \n",
       "25%        207.410000         0.000000        267.407500      1.000000  \n",
       "50%        417.875000         0.000000        497.335000      2.000000  \n",
       "75%        700.302500         0.000000        811.382500      3.000000  \n",
       "max      49325.000000         1.000000      68600.000000      4.000000  "
      ]
     },
     "execution_count": 10,
     "metadata": {},
     "output_type": "execute_result"
    }
   ],
   "source": [
    "print(data_full.shape)\n",
    "data_full.info()\n",
    "data_full.describe()"
   ]
  },
  {
   "cell_type": "markdown",
   "metadata": {},
   "source": [
    "# Distributions"
   ]
  },
  {
   "cell_type": "code",
   "execution_count": 11,
   "metadata": {
    "_uuid": "065cf6f19d234ee3c9eea768f3a011405f5c5353",
    "scrolled": true
   },
   "outputs": [
    {
     "data": {
      "image/png": "[encoded data removed]",
      "text/plain": [
       "<Figure size 1440x1080 with 20 Axes>"
      ]
     },
     "metadata": {
      "needs_background": "light"
     },
     "output_type": "display_data"
    }
   ],
   "source": [
    "data_full.hist(bins=50, figsize=(20,15))\n",
    "plt.show()"
   ]
  },
  {
   "cell_type": "code",
   "execution_count": 12,
   "metadata": {
    "_uuid": "83ae9f774562dd67c07fc679b7e272b774022c0b"
   },
   "outputs": [
    {
     "data": {
      "image/png": "[encoded data removed]",
      "text/plain": [
       "<Figure size 432x288 with 1 Axes>"
      ]
     },
     "metadata": {
      "needs_background": "light"
     },
     "output_type": "display_data"
    },
    {
     "data": {
      "image/png": "[encoded data removed]",
      "text/plain": [
       "<Figure size 432x288 with 1 Axes>"
      ]
     },
     "metadata": {
      "needs_background": "light"
     },
     "output_type": "display_data"
    }
   ],
   "source": [
    "age_histogram = data_full.hist(column='age', bins=20, range=[0, 100])\n",
    "for ax in age_histogram.flatten():\n",
    "    ax.set_xlabel(\"Age\")\n",
    "    ax.set_ylabel(\"Num. of Patients\")\n",
    "plt.show()\n",
    "data_full.groupby('ExpiredHospital').size().plot.bar()\n",
    "plt.show()"
   ]
  },
  {
   "cell_type": "code",
   "execution_count": 13,
   "metadata": {
    "_uuid": "7e79fc43938776df54e39607ab4d29eb6747094c"
   },
   "outputs": [
    {
     "name": "stdout",
     "output_type": "stream",
     "text": [
      "y - Labels (58976,)\n",
      "X - No Label No id  (58976, 18)\n",
      "Index(['gender', 'age', 'admit_type', 'admit_location', 'NumCallouts',\n",
      "       'NumDiagnosis', 'NumProcs', 'NumCPTevents', 'NumInput', 'NumLabs',\n",
      "       'NumMicroLabs', 'NumNotes', 'NumOutput', 'NumRx', 'NumProcEvents',\n",
      "       'NumTransfers', 'NumChartEvents', 'TotalNumInteract'],\n",
      "      dtype='object')\n"
     ]
    }
   ],
   "source": [
    "# Label = ExpiredHospital\n",
    "y = data_full['ExpiredHospital']\n",
    "X = data_full.drop('ExpiredHospital', 1)\n",
    "\n",
    "X = X.drop('LOSdays', 1)\n",
    "X = X.drop('LOSgroupNum', 1)\n",
    "X = X.drop('AdmitDiagnosis', 1)\n",
    "X = X.drop('AdmitProcedure', 1)\n",
    "X = X.drop('marital_status', 1)\n",
    "X = X.drop('ethnicity', 1)\n",
    "X = X.drop('religion', 1)\n",
    "X = X.drop('insurance', 1)\n",
    "\n",
    "print(\"y - Labels\", y.shape)\n",
    "print(\"X - No Label No id \", X.shape)\n",
    "print(X.columns)"
   ]
  },
  {
   "cell_type": "code",
   "execution_count": 14,
   "metadata": {
    "_uuid": "23cb75f78120552ed8c09d96d6782fd28c0e506f"
   },
   "outputs": [
    {
     "name": "stdout",
     "output_type": "stream",
     "text": [
      "<class 'pandas.core.frame.DataFrame'>\n",
      "RangeIndex: 58976 entries, 0 to 58975\n",
      "Data columns (total 18 columns):\n",
      "gender              58976 non-null object\n",
      "age                 58976 non-null int64\n",
      "admit_type          58976 non-null object\n",
      "admit_location      58976 non-null object\n",
      "NumCallouts         58976 non-null float64\n",
      "NumDiagnosis        58976 non-null float64\n",
      "NumProcs            58976 non-null float64\n",
      "NumCPTevents        58976 non-null float64\n",
      "NumInput            58976 non-null float64\n",
      "NumLabs             58976 non-null float64\n",
      "NumMicroLabs        58976 non-null float64\n",
      "NumNotes            58976 non-null float64\n",
      "NumOutput           58976 non-null float64\n",
      "NumRx               58976 non-null float64\n",
      "NumProcEvents       58976 non-null float64\n",
      "NumTransfers        58976 non-null float64\n",
      "NumChartEvents      58976 non-null float64\n",
      "TotalNumInteract    58976 non-null float64\n",
      "dtypes: float64(14), int64(1), object(3)\n",
      "memory usage: 8.1+ MB\n"
     ]
    },
    {
     "data": {
      "text/html": [
       "<div>\n",
       "<style scoped>\n",
       "    .dataframe tbody tr th:only-of-type {\n",
       "        vertical-align: middle;\n",
       "    }\n",
       "\n",
       "    .dataframe tbody tr th {\n",
       "        vertical-align: top;\n",
       "    }\n",
       "\n",
       "    .dataframe thead th {\n",
       "        text-align: right;\n",
       "    }\n",
       "</style>\n",
       "<table border=\"1\" class=\"dataframe\">\n",
       "  <thead>\n",
       "    <tr style=\"text-align: right;\">\n",
       "      <th></th>\n",
       "      <th>age</th>\n",
       "      <th>NumCallouts</th>\n",
       "      <th>NumDiagnosis</th>\n",
       "      <th>NumProcs</th>\n",
       "      <th>NumCPTevents</th>\n",
       "      <th>NumInput</th>\n",
       "      <th>NumLabs</th>\n",
       "      <th>NumMicroLabs</th>\n",
       "      <th>NumNotes</th>\n",
       "      <th>NumOutput</th>\n",
       "      <th>NumRx</th>\n",
       "      <th>NumProcEvents</th>\n",
       "      <th>NumTransfers</th>\n",
       "      <th>NumChartEvents</th>\n",
       "      <th>TotalNumInteract</th>\n",
       "    </tr>\n",
       "  </thead>\n",
       "  <tbody>\n",
       "    <tr>\n",
       "      <th>count</th>\n",
       "      <td>58976.000000</td>\n",
       "      <td>58976.000000</td>\n",
       "      <td>58976.00000</td>\n",
       "      <td>58976.000000</td>\n",
       "      <td>58976.000000</td>\n",
       "      <td>58976.000000</td>\n",
       "      <td>58976.000000</td>\n",
       "      <td>58976.000000</td>\n",
       "      <td>58976.000000</td>\n",
       "      <td>58976.000000</td>\n",
       "      <td>58976.000000</td>\n",
       "      <td>58976.000000</td>\n",
       "      <td>58976.000000</td>\n",
       "      <td>58976.000000</td>\n",
       "      <td>58976.000000</td>\n",
       "    </tr>\n",
       "    <tr>\n",
       "      <th>mean</th>\n",
       "      <td>53.005884</td>\n",
       "      <td>0.099374</td>\n",
       "      <td>2.67596</td>\n",
       "      <td>0.785599</td>\n",
       "      <td>1.074118</td>\n",
       "      <td>30.379017</td>\n",
       "      <td>46.421124</td>\n",
       "      <td>1.219913</td>\n",
       "      <td>6.464789</td>\n",
       "      <td>7.111594</td>\n",
       "      <td>9.593702</td>\n",
       "      <td>0.691903</td>\n",
       "      <td>1.093313</td>\n",
       "      <td>528.505172</td>\n",
       "      <td>636.115579</td>\n",
       "    </tr>\n",
       "    <tr>\n",
       "      <th>std</th>\n",
       "      <td>26.028120</td>\n",
       "      <td>0.163437</td>\n",
       "      <td>8.26559</td>\n",
       "      <td>3.558090</td>\n",
       "      <td>2.027148</td>\n",
       "      <td>62.430163</td>\n",
       "      <td>76.061561</td>\n",
       "      <td>4.236693</td>\n",
       "      <td>106.709903</td>\n",
       "      <td>7.551822</td>\n",
       "      <td>12.601338</td>\n",
       "      <td>2.117615</td>\n",
       "      <td>3.169441</td>\n",
       "      <td>640.250063</td>\n",
       "      <td>783.938087</td>\n",
       "    </tr>\n",
       "    <tr>\n",
       "      <th>min</th>\n",
       "      <td>0.000000</td>\n",
       "      <td>0.000000</td>\n",
       "      <td>0.00000</td>\n",
       "      <td>0.000000</td>\n",
       "      <td>0.000000</td>\n",
       "      <td>0.000000</td>\n",
       "      <td>0.000000</td>\n",
       "      <td>0.000000</td>\n",
       "      <td>0.000000</td>\n",
       "      <td>0.000000</td>\n",
       "      <td>0.000000</td>\n",
       "      <td>0.000000</td>\n",
       "      <td>0.000000</td>\n",
       "      <td>0.000000</td>\n",
       "      <td>0.000000</td>\n",
       "    </tr>\n",
       "    <tr>\n",
       "      <th>25%</th>\n",
       "      <td>43.000000</td>\n",
       "      <td>0.000000</td>\n",
       "      <td>0.82000</td>\n",
       "      <td>0.210000</td>\n",
       "      <td>0.000000</td>\n",
       "      <td>4.850000</td>\n",
       "      <td>26.980000</td>\n",
       "      <td>0.160000</td>\n",
       "      <td>0.140000</td>\n",
       "      <td>1.750000</td>\n",
       "      <td>4.330000</td>\n",
       "      <td>0.000000</td>\n",
       "      <td>0.380000</td>\n",
       "      <td>207.410000</td>\n",
       "      <td>267.407500</td>\n",
       "    </tr>\n",
       "    <tr>\n",
       "      <th>50%</th>\n",
       "      <td>59.000000</td>\n",
       "      <td>0.000000</td>\n",
       "      <td>1.41000</td>\n",
       "      <td>0.420000</td>\n",
       "      <td>0.970000</td>\n",
       "      <td>13.990000</td>\n",
       "      <td>38.520000</td>\n",
       "      <td>0.510000</td>\n",
       "      <td>0.330000</td>\n",
       "      <td>5.310000</td>\n",
       "      <td>8.370000</td>\n",
       "      <td>0.000000</td>\n",
       "      <td>0.650000</td>\n",
       "      <td>417.875000</td>\n",
       "      <td>497.335000</td>\n",
       "    </tr>\n",
       "    <tr>\n",
       "      <th>75%</th>\n",
       "      <td>73.000000</td>\n",
       "      <td>0.160000</td>\n",
       "      <td>2.40000</td>\n",
       "      <td>0.710000</td>\n",
       "      <td>1.560000</td>\n",
       "      <td>34.360000</td>\n",
       "      <td>50.860000</td>\n",
       "      <td>1.350000</td>\n",
       "      <td>0.770000</td>\n",
       "      <td>10.490000</td>\n",
       "      <td>12.270000</td>\n",
       "      <td>0.880000</td>\n",
       "      <td>1.060000</td>\n",
       "      <td>700.302500</td>\n",
       "      <td>811.382500</td>\n",
       "    </tr>\n",
       "    <tr>\n",
       "      <th>max</th>\n",
       "      <td>89.000000</td>\n",
       "      <td>4.760000</td>\n",
       "      <td>450.00000</td>\n",
       "      <td>275.000000</td>\n",
       "      <td>225.000000</td>\n",
       "      <td>6825.000000</td>\n",
       "      <td>5175.000000</td>\n",
       "      <td>375.000000</td>\n",
       "      <td>7500.000000</td>\n",
       "      <td>375.000000</td>\n",
       "      <td>750.000000</td>\n",
       "      <td>100.000000</td>\n",
       "      <td>125.000000</td>\n",
       "      <td>49325.000000</td>\n",
       "      <td>68600.000000</td>\n",
       "    </tr>\n",
       "  </tbody>\n",
       "</table>\n",
       "</div>"
      ],
      "text/plain": [
       "                age   NumCallouts  NumDiagnosis      NumProcs  NumCPTevents  \\\n",
       "count  58976.000000  58976.000000   58976.00000  58976.000000  58976.000000   \n",
       "mean      53.005884      0.099374       2.67596      0.785599      1.074118   \n",
       "std       26.028120      0.163437       8.26559      3.558090      2.027148   \n",
       "min        0.000000      0.000000       0.00000      0.000000      0.000000   \n",
       "25%       43.000000      0.000000       0.82000      0.210000      0.000000   \n",
       "50%       59.000000      0.000000       1.41000      0.420000      0.970000   \n",
       "75%       73.000000      0.160000       2.40000      0.710000      1.560000   \n",
       "max       89.000000      4.760000     450.00000    275.000000    225.000000   \n",
       "\n",
       "           NumInput       NumLabs  NumMicroLabs      NumNotes     NumOutput  \\\n",
       "count  58976.000000  58976.000000  58976.000000  58976.000000  58976.000000   \n",
       "mean      30.379017     46.421124      1.219913      6.464789      7.111594   \n",
       "std       62.430163     76.061561      4.236693    106.709903      7.551822   \n",
       "min        0.000000      0.000000      0.000000      0.000000      0.000000   \n",
       "25%        4.850000     26.980000      0.160000      0.140000      1.750000   \n",
       "50%       13.990000     38.520000      0.510000      0.330000      5.310000   \n",
       "75%       34.360000     50.860000      1.350000      0.770000     10.490000   \n",
       "max     6825.000000   5175.000000    375.000000   7500.000000    375.000000   \n",
       "\n",
       "              NumRx  NumProcEvents  NumTransfers  NumChartEvents  \\\n",
       "count  58976.000000   58976.000000  58976.000000    58976.000000   \n",
       "mean       9.593702       0.691903      1.093313      528.505172   \n",
       "std       12.601338       2.117615      3.169441      640.250063   \n",
       "min        0.000000       0.000000      0.000000        0.000000   \n",
       "25%        4.330000       0.000000      0.380000      207.410000   \n",
       "50%        8.370000       0.000000      0.650000      417.875000   \n",
       "75%       12.270000       0.880000      1.060000      700.302500   \n",
       "max      750.000000     100.000000    125.000000    49325.000000   \n",
       "\n",
       "       TotalNumInteract  \n",
       "count      58976.000000  \n",
       "mean         636.115579  \n",
       "std          783.938087  \n",
       "min            0.000000  \n",
       "25%          267.407500  \n",
       "50%          497.335000  \n",
       "75%          811.382500  \n",
       "max        68600.000000  "
      ]
     },
     "execution_count": 14,
     "metadata": {},
     "output_type": "execute_result"
    }
   ],
   "source": [
    "# Check that all X columns have no missing values\n",
    "X.info()\n",
    "X.describe()"
   ]
  },
  {
   "cell_type": "markdown",
   "metadata": {},
   "source": [
    "# Expired Hospital, Admit Type"
   ]
  },
  {
   "cell_type": "code",
   "execution_count": 50,
   "metadata": {
    "_uuid": "7b7f84082dc76270304c1acad39d1316c5e6ecc4",
    "scrolled": true
   },
   "outputs": [],
   "source": [
    "a = data_full.groupby('ExpiredHospital').size()"
   ]
  },
  {
   "cell_type": "code",
   "execution_count": 57,
   "metadata": {},
   "outputs": [],
   "source": [
    "b = [0,1]"
   ]
  },
  {
   "cell_type": "code",
   "execution_count": 60,
   "metadata": {},
   "outputs": [],
   "source": [
    "y_pos = np.arange(len(b))"
   ]
  },
  {
   "cell_type": "code",
   "execution_count": 58,
   "metadata": {},
   "outputs": [],
   "source": [
    "performance = list(a)"
   ]
  },
  {
   "cell_type": "code",
   "execution_count": 59,
   "metadata": {},
   "outputs": [
    {
     "data": {
      "text/plain": [
       "[53122, 5854]"
      ]
     },
     "execution_count": 59,
     "metadata": {},
     "output_type": "execute_result"
    }
   ],
   "source": [
    "performance"
   ]
  },
  {
   "cell_type": "code",
   "execution_count": 62,
   "metadata": {},
   "outputs": [
    {
     "data": {
      "image/png": "[encoded data removed]",
      "text/plain": [
       "<Figure size 432x288 with 1 Axes>"
      ]
     },
     "metadata": {
      "needs_background": "light"
     },
     "output_type": "display_data"
    }
   ],
   "source": [
    "plt.bar(y_pos, performance, align='center', alpha=0.5)\n",
    "plt.xticks(y_pos, b)\n",
    "plt.ylabel('Usage')\n",
    "plt.title('Programming language usage')\n",
    "\n",
    "plt.show()"
   ]
  },
  {
   "cell_type": "code",
   "execution_count": 63,
   "metadata": {},
   "outputs": [
    {
     "data": {
      "image/png": "[encoded data removed]",
      "text/plain": [
       "<Figure size 432x288 with 1 Axes>"
      ]
     },
     "metadata": {
      "needs_background": "light"
     },
     "output_type": "display_data"
    }
   ],
   "source": [
    "data_full.groupby('admit_type').size().plot.bar()\n",
    "plt.show()"
   ]
  },
  {
   "cell_type": "code",
   "execution_count": 17,
   "metadata": {
    "_uuid": "15b855d927a517112efc388fa3a1988e1a40faf6"
   },
   "outputs": [
    {
     "name": "stdout",
     "output_type": "stream",
     "text": [
      "(58976, 18)\n",
      "(58976, 30)\n"
     ]
    }
   ],
   "source": [
    "# MAP Text to Numerical Data with one-hot-encoding to convert categorical features to numerical\n",
    "\n",
    "print(X.shape)\n",
    "categorical_columns = [\n",
    "                    'gender',                     \n",
    "                    'admit_type',\n",
    "                    'admit_location'\n",
    "                      ]\n",
    "for col in categorical_columns:\n",
    "    #if the original column is present replace it with a one-hot\n",
    "    if col in X.columns:\n",
    "        one_hot_encoded = pd.get_dummies(X[col])\n",
    "        X = X.drop(col, axis=1)\n",
    "        X = X.join(one_hot_encoded, lsuffix='_left', rsuffix='_right')\n",
    "        \n",
    "print(X.shape)"
   ]
  },
  {
   "cell_type": "code",
   "execution_count": 19,
   "metadata": {
    "_uuid": "8d57b4c62d89971e0f5660fec3771bb94bf4843f",
    "scrolled": true
   },
   "outputs": [
    {
     "name": "stdout",
     "output_type": "stream",
     "text": [
      "(58976, 27)\n",
      "(58976, 30)\n",
      "XnotNorm  (58976, 30)\n",
      "ynotNorm  (58976,)\n"
     ]
    }
   ],
   "source": [
    "print(data_full.shape)\n",
    "print(X.shape)\n",
    "\n",
    "XnotNorm = X.copy()\n",
    "print('XnotNorm ', XnotNorm.shape)\n",
    "\n",
    "#yFI = data_full.expired_icu\n",
    "ynotNorm = y.copy()\n",
    "print('ynotNorm ', ynotNorm.shape)"
   ]
  },
  {
   "cell_type": "code",
   "execution_count": 20,
   "metadata": {
    "_uuid": "5f96cd3de1cc5df7c0b9c295205a0069a3bf19cc"
   },
   "outputs": [
    {
     "name": "stdout",
     "output_type": "stream",
     "text": [
      "            age  NumCallouts  NumDiagnosis  NumProcs  NumCPTevents   NumInput  \\\n",
      "0     -0.691792     0.370949     -0.010400 -0.220794      0.111429  -0.084239   \n",
      "1      0.230296     0.921627     -0.053954  0.057447      0.446879  -0.268607   \n",
      "2     -0.192328    -0.608032     -0.233011 -0.173015     -0.120425  -0.303045   \n",
      "3      0.768180     1.900608     -0.240270 -0.144910     -0.189488  -0.161446   \n",
      "4      0.268716    -0.608032      0.122683  0.009668      0.580072  -0.158403   \n",
      "5      0.038194     0.799254     -0.185827 -0.029679      0.372883  -0.380573   \n",
      "6     -1.229676    -0.179728     -0.206395  0.071500      1.014183   0.512593   \n",
      "7      0.537658     0.003831     -0.191877 -0.108373      0.007835  -0.173620   \n",
      "8     -0.153907    -0.608032      1.212754  1.117014      1.033916  -0.486612   \n",
      "9      0.076615    -0.608032     -0.108397  0.006858      0.668868  -0.071265   \n",
      "10    -0.999154    -0.608032      1.120806  0.619551     -0.529871  -0.175862   \n",
      "11     0.076615     0.126204      0.102116  0.018100      0.604737   0.111341   \n",
      "12    -0.999154    -0.608032     -0.171309  0.046205     -0.529871  -0.486612   \n",
      "13     0.191876    -0.057355     -0.118076 -0.220794      0.308753  -0.463867   \n",
      "14     0.038194    -0.424473     -0.265677 -0.184257      0.071965  -0.448489   \n",
      "15    -2.036503    -0.608032     -0.063633  0.020911     -0.529871  -0.486612   \n",
      "16     0.691340     0.370949     -0.113237 -0.088700      0.091697  -0.243619   \n",
      "17    -2.036503    -0.608032      0.051302  0.434057     -0.529871  -0.250666   \n",
      "18     0.729760     0.309763     -0.165260 -0.015626      0.185426  -0.353983   \n",
      "19    -2.036503    -0.608032     -0.291084 -0.201121     -0.529871  -0.298721   \n",
      "20    -0.768632    -0.608032     -0.277776 -0.203931     -0.125358  -0.314098   \n",
      "21     1.075543    -0.608032     -0.241480 -0.091510     -0.381879   0.673734   \n",
      "22    -1.191256     3.552639     -0.158001 -0.029679     -0.194422   0.424013   \n",
      "23     0.576079     1.043999     -0.066053  0.004047      0.126229   0.077223   \n",
      "24    -0.653371    -0.363287     -0.199136 -0.175826      0.289020   0.052395   \n",
      "25     1.113963     0.003831     -0.119286 -0.136479     -0.480540  -0.004790   \n",
      "26     0.191876    -0.363287     -0.269307 -0.142100      0.313686  -0.448169   \n",
      "27     0.153455     2.757217      0.336826 -0.066216     -0.258552  -0.188997   \n",
      "28    -0.576531    -0.424473     -0.243900 -0.173015      0.264355  -0.358308   \n",
      "29    -0.883893     1.533490     -0.240270 -0.220794      0.496210  -0.230804   \n",
      "...         ...          ...           ...       ...           ...        ...   \n",
      "58946  1.190804     0.187390     -0.249949 -0.097131     -0.263485  -0.472036   \n",
      "58947 -2.036503    -0.608032     -0.149532 -0.085889     -0.529871  -0.486612   \n",
      "58948  0.076615    -0.608032      4.682590  2.685284      7.974760  13.874356   \n",
      "58949  0.921861     2.022981     -0.194296 -0.161773      0.101563  -0.363113   \n",
      "58950  1.075543     1.227558      0.463860 -0.220794      0.200225  -0.429748   \n",
      "58951 -0.307589     0.493322     -0.154371 -0.220794      0.076898  -0.486612   \n",
      "58952 -0.000226    -0.608032     -0.230592 -0.074647      0.234756  -0.416453   \n",
      "58953  0.191876    -0.608032     -0.243900 -0.220794     -0.347347  -0.364715   \n",
      "58954 -1.191256    -0.118541     -0.206395 -0.040921      0.224890  -0.151355   \n",
      "58955  0.652919    -0.608032     -0.208814 -0.026868     -0.095760   3.196575   \n",
      "58956  0.230296    -0.608032     -0.231802 -0.102752     -0.529871   0.795311   \n",
      "58957  1.113963     0.003831     -0.138643 -0.220794      0.076898  -0.432631   \n",
      "58958 -0.960734    -0.608032     -0.277776 -0.147721     -0.529871  -0.378170   \n",
      "58959  1.113963    -0.608032     -0.194296 -0.046542     -0.396678   0.627923   \n",
      "58960 -0.038646    -0.608032     -0.164050 -0.113994     -0.529871  -0.017284   \n",
      "58961  0.960282    -0.118541     -0.177358 -0.094321     -0.194422  -0.016162   \n",
      "58962 -2.036503    -0.608032     -0.180988 -0.111184     -0.529871  -0.486612   \n",
      "58963  0.921861    -0.608032     -0.278985 -0.116805     -0.061228   1.929068   \n",
      "58964  0.998702     0.493322     -0.102348 -0.015626      0.101563  -0.114033   \n",
      "58965 -0.038646     1.349931      0.333196  0.498699     -0.056295  -0.251147   \n",
      "58966  0.076615     1.533490      0.231569 -0.021247      0.165693  -0.396110   \n",
      "58967  0.768180    -0.608032     -0.020079  0.383468     -0.529871   0.213857   \n",
      "58968  0.729760     0.065018     -0.213654 -0.029679      0.594871  -0.308011   \n",
      "58969  0.806600    -0.608032     -0.293504 -0.142100     -0.529871  -0.415332   \n",
      "58970  1.229224     1.533490      0.306580 -0.220794      0.155827  -0.369841   \n",
      "58971  0.268716    -0.608032     -0.278985 -0.071837     -0.066161   4.814076   \n",
      "58972  0.191876    -0.608032     -0.212444 -0.105563     -0.224020   1.037984   \n",
      "58973 -1.152835    -0.608032     -0.251159 -0.069026     -0.500273  -0.283824   \n",
      "58974  0.614499    -0.608032      0.005328 -0.077458     -0.446009  -0.072546   \n",
      "58975  1.344485    -0.608032     -0.038226 -0.170205      0.096630  -0.378811   \n",
      "\n",
      "        NumLabs  NumMicroLabs  NumNotes  NumOutput            ...              \\\n",
      "0     -0.039194     -0.134520 -0.060115  -0.254456            ...               \n",
      "1      0.125148      0.004741 -0.045683  -0.220027            ...               \n",
      "2     -0.171325     -0.210051 -0.059178  -0.392173            ...               \n",
      "3     -0.186444     -0.125078 -0.058990   0.256683            ...               \n",
      "4      0.055073     -0.143961 -0.057397   1.202158            ...               \n",
      "5     -0.208137     -0.287942 -0.059553   0.116318            ...               \n",
      "6     -0.038931      0.155804 -0.058615   1.443162            ...               \n",
      "7     -0.104273     -0.217132 -0.059178   1.108140            ...               \n",
      "8     -0.610315     -0.287942 -0.060583  -0.941714            ...               \n",
      "9     -0.158572     -0.096754 -0.058615   1.247181            ...               \n",
      "10     0.370872     -0.287942  0.085609   0.046136            ...               \n",
      "11     0.095698     -0.202970 -0.052618   0.358646            ...               \n",
      "12    -0.610315     -0.287942 -0.058709  -0.941714            ...               \n",
      "13    -0.186576     -0.132159 -0.057116  -0.703359            ...               \n",
      "14    -0.305296     -0.103835 -0.060396  -0.849020            ...               \n",
      "15    -0.463591     -0.186447 -0.057116  -0.941714            ...               \n",
      "16    -0.136747     -0.212411 -0.058897  -0.167060            ...               \n",
      "17    -0.610315     -0.287942 -0.046526  -0.941714            ...               \n",
      "18    -0.157389     -0.047187 -0.058428  -0.172356            ...               \n",
      "19    -0.582311     -0.271420 -0.057772  -0.924499            ...               \n",
      "20    -0.140823     -0.080231 -0.059740  -0.866235            ...               \n",
      "21    -0.039325     -0.252537 -0.059365   0.586407            ...               \n",
      "22     0.173136      0.358794 -0.025441   0.418235            ...               \n",
      "23     0.094383     -0.162844 -0.053274   1.035309            ...               \n",
      "24    -0.098751     -0.120357 -0.060209   0.352025            ...               \n",
      "25    -0.038011     -0.240735 -0.058615   0.218281            ...               \n",
      "26     0.206267     -0.049547 -0.059927  -0.842399            ...               \n",
      "27     0.273319     -0.030664 -0.032657  -0.145872            ...               \n",
      "28    -0.069827     -0.214772 -0.060302  -0.316694            ...               \n",
      "29    -0.135564     -0.205330 -0.049338   0.345404            ...               \n",
      "...         ...           ...       ...        ...            ...               \n",
      "58946  0.002483     -0.066069 -0.060021  -0.794728            ...               \n",
      "58947 -0.439662     -0.174646 -0.056273  -0.941714            ...               \n",
      "58948  6.235382      2.966983  0.496539   2.711740            ...               \n",
      "58949  0.414390      0.167605 -0.055429  -0.034640            ...               \n",
      "58950  0.120941     -0.077871 -0.052337  -0.079663            ...               \n",
      "58951 -0.304113     -0.205330 -0.058897  -0.802673            ...               \n",
      "58952 -0.095202     -0.287942 -0.056835  -0.396145            ...               \n",
      "58953 -0.349077     -0.200609 -0.059646   0.055405            ...               \n",
      "58954 -0.188942     -0.193528 -0.060209  -0.078339            ...               \n",
      "58955  0.304084     -0.094394 -0.058334   1.685489            ...               \n",
      "58956 -0.023549      0.108597 -0.058897  -0.675551            ...               \n",
      "58957 -0.203404     -0.240735 -0.060302  -0.630528            ...               \n",
      "58958 -0.329882     -0.167564 -0.059084  -0.586829            ...               \n",
      "58959  0.163801     -0.287942 -0.058990   0.227551            ...               \n",
      "58960 -0.118210     -0.287942 -0.058241   1.211427            ...               \n",
      "58961  0.173004     -0.143961 -0.054867   1.543800            ...               \n",
      "58962 -0.449917     -0.195889 -0.056273  -0.941714            ...               \n",
      "58963  0.130933      0.219533 -0.059178   1.836447            ...               \n",
      "58964 -0.042086     -0.200609 -0.058428   0.246089            ...               \n",
      "58965  0.166825     -0.212411 -0.051025  -0.265050            ...               \n",
      "58966 -0.113214     -0.205330 -0.055898  -0.286237            ...               \n",
      "58967 -0.073114     -0.287942 -0.052149  -0.087608            ...               \n",
      "58968 -0.173560     -0.179366 -0.056460   0.052757            ...               \n",
      "58969 -0.335141     -0.092033 -0.060396  -0.729843            ...               \n",
      "58970  0.056124      0.368235 -0.057210  -0.298155            ...               \n",
      "58971  0.264773     -0.240735 -0.059365   2.118501            ...               \n",
      "58972  0.086889      0.245497 -0.057772   0.104400            ...               \n",
      "58973 -0.251655     -0.160483 -0.059646  -0.111443            ...               \n",
      "58974  0.044818     -0.247816 -0.057303   0.679101            ...               \n",
      "58975 -0.086787      0.099155 -0.056835  -0.315369            ...               \n",
      "\n",
      "         URGENT  ** INFO NOT AVAILABLE **  CLINIC REFERRAL/PREMATURE  \\\n",
      "0     -0.152244                 -0.058916                   1.975246   \n",
      "1     -0.152244                 -0.058916                  -0.506266   \n",
      "2     -0.152244                 -0.058916                  -0.506266   \n",
      "3     -0.152244                 -0.058916                  -0.506266   \n",
      "4     -0.152244                 -0.058916                  -0.506266   \n",
      "5     -0.152244                 -0.058916                  -0.506266   \n",
      "6     -0.152244                 -0.058916                   1.975246   \n",
      "7     -0.152244                 -0.058916                  -0.506266   \n",
      "8     -0.152244                 -0.058916                  -0.506266   \n",
      "9     -0.152244                 -0.058916                   1.975246   \n",
      "10     6.568387                 -0.058916                  -0.506266   \n",
      "11    -0.152244                 -0.058916                  -0.506266   \n",
      "12    -0.152244                 -0.058916                  -0.506266   \n",
      "13    -0.152244                 -0.058916                  -0.506266   \n",
      "14    -0.152244                 -0.058916                  -0.506266   \n",
      "15    -0.152244                 -0.058916                  -0.506266   \n",
      "16    -0.152244                 -0.058916                  -0.506266   \n",
      "17    -0.152244                 -0.058916                  -0.506266   \n",
      "18    -0.152244                 -0.058916                   1.975246   \n",
      "19    -0.152244                 -0.058916                   1.975246   \n",
      "20    -0.152244                 -0.058916                  -0.506266   \n",
      "21    -0.152244                 -0.058916                  -0.506266   \n",
      "22    -0.152244                 -0.058916                  -0.506266   \n",
      "23    -0.152244                 -0.058916                  -0.506266   \n",
      "24    -0.152244                 -0.058916                   1.975246   \n",
      "25    -0.152244                 -0.058916                  -0.506266   \n",
      "26    -0.152244                 -0.058916                  -0.506266   \n",
      "27    -0.152244                 -0.058916                  -0.506266   \n",
      "28    -0.152244                 -0.058916                   1.975246   \n",
      "29    -0.152244                 -0.058916                   1.975246   \n",
      "...         ...                       ...                        ...   \n",
      "58946 -0.152244                 -0.058916                  -0.506266   \n",
      "58947 -0.152244                 -0.058916                  -0.506266   \n",
      "58948 -0.152244                 -0.058916                  -0.506266   \n",
      "58949 -0.152244                 -0.058916                  -0.506266   \n",
      "58950 -0.152244                 -0.058916                   1.975246   \n",
      "58951 -0.152244                 -0.058916                   1.975246   \n",
      "58952 -0.152244                 -0.058916                  -0.506266   \n",
      "58953 -0.152244                 -0.058916                  -0.506266   \n",
      "58954 -0.152244                 -0.058916                   1.975246   \n",
      "58955 -0.152244                 -0.058916                  -0.506266   \n",
      "58956 -0.152244                 -0.058916                  -0.506266   \n",
      "58957 -0.152244                 -0.058916                   1.975246   \n",
      "58958 -0.152244                 -0.058916                  -0.506266   \n",
      "58959 -0.152244                 -0.058916                  -0.506266   \n",
      "58960 -0.152244                 -0.058916                  -0.506266   \n",
      "58961 -0.152244                 -0.058916                  -0.506266   \n",
      "58962 -0.152244                 -0.058916                  -0.506266   \n",
      "58963 -0.152244                 -0.058916                  -0.506266   \n",
      "58964 -0.152244                 -0.058916                  -0.506266   \n",
      "58965 -0.152244                 -0.058916                  -0.506266   \n",
      "58966 -0.152244                 -0.058916                  -0.506266   \n",
      "58967 -0.152244                 -0.058916                  -0.506266   \n",
      "58968 -0.152244                 -0.058916                  -0.506266   \n",
      "58969 -0.152244                 -0.058916                  -0.506266   \n",
      "58970 -0.152244                 -0.058916                  -0.506266   \n",
      "58971 -0.152244                 -0.058916                  -0.506266   \n",
      "58972 -0.152244                 -0.058916                  -0.506266   \n",
      "58973 -0.152244                 -0.058916                  -0.506266   \n",
      "58974 -0.152244                 -0.058916                  -0.506266   \n",
      "58975 -0.152244                 -0.058916                   1.975246   \n",
      "\n",
      "       EMERGENCY ROOM ADMIT  HMO REFERRAL/SICK  PHYS REFERRAL/NORMAL DELI  \\\n",
      "0                 -0.792579          -0.041623                  -0.586096   \n",
      "1                  1.261704          -0.041623                  -0.586096   \n",
      "2                  1.261704          -0.041623                  -0.586096   \n",
      "3                  1.261704          -0.041623                  -0.586096   \n",
      "4                 -0.792579          -0.041623                  -0.586096   \n",
      "5                 -0.792579          -0.041623                   1.706205   \n",
      "6                 -0.792579          -0.041623                  -0.586096   \n",
      "7                 -0.792579          -0.041623                  -0.586096   \n",
      "8                 -0.792579          -0.041623                   1.706205   \n",
      "9                 -0.792579          -0.041623                  -0.586096   \n",
      "10                -0.792579          -0.041623                  -0.586096   \n",
      "11                -0.792579          -0.041623                   1.706205   \n",
      "12                -0.792579          -0.041623                   1.706205   \n",
      "13                 1.261704          -0.041623                  -0.586096   \n",
      "14                 1.261704          -0.041623                  -0.586096   \n",
      "15                -0.792579          -0.041623                   1.706205   \n",
      "16                -0.792579          -0.041623                   1.706205   \n",
      "17                -0.792579          -0.041623                   1.706205   \n",
      "18                -0.792579          -0.041623                  -0.586096   \n",
      "19                -0.792579          -0.041623                  -0.586096   \n",
      "20                 1.261704          -0.041623                  -0.586096   \n",
      "21                -0.792579          -0.041623                   1.706205   \n",
      "22                 1.261704          -0.041623                  -0.586096   \n",
      "23                -0.792579          -0.041623                   1.706205   \n",
      "24                -0.792579          -0.041623                  -0.586096   \n",
      "25                -0.792579          -0.041623                  -0.586096   \n",
      "26                 1.261704          -0.041623                  -0.586096   \n",
      "27                 1.261704          -0.041623                  -0.586096   \n",
      "28                -0.792579          -0.041623                  -0.586096   \n",
      "29                -0.792579          -0.041623                  -0.586096   \n",
      "...                     ...                ...                        ...   \n",
      "58946              1.261704          -0.041623                  -0.586096   \n",
      "58947             -0.792579          -0.041623                   1.706205   \n",
      "58948              1.261704          -0.041623                  -0.586096   \n",
      "58949              1.261704          -0.041623                  -0.586096   \n",
      "58950             -0.792579          -0.041623                  -0.586096   \n",
      "58951             -0.792579          -0.041623                  -0.586096   \n",
      "58952              1.261704          -0.041623                  -0.586096   \n",
      "58953             -0.792579          -0.041623                  -0.586096   \n",
      "58954             -0.792579          -0.041623                  -0.586096   \n",
      "58955             -0.792579          -0.041623                   1.706205   \n",
      "58956              1.261704          -0.041623                  -0.586096   \n",
      "58957             -0.792579          -0.041623                  -0.586096   \n",
      "58958              1.261704          -0.041623                  -0.586096   \n",
      "58959             -0.792579          -0.041623                   1.706205   \n",
      "58960             -0.792579          -0.041623                   1.706205   \n",
      "58961             -0.792579          -0.041623                   1.706205   \n",
      "58962             -0.792579          -0.041623                   1.706205   \n",
      "58963             -0.792579          -0.041623                  -0.586096   \n",
      "58964             -0.792579          -0.041623                   1.706205   \n",
      "58965             -0.792579          -0.041623                  -0.586096   \n",
      "58966             -0.792579          -0.041623                  -0.586096   \n",
      "58967             -0.792579          -0.041623                  -0.586096   \n",
      "58968              1.261704          -0.041623                  -0.586096   \n",
      "58969             -0.792579          -0.041623                   1.706205   \n",
      "58970             -0.792579          -0.041623                  -0.586096   \n",
      "58971             -0.792579          -0.041623                  -0.586096   \n",
      "58972              1.261704          -0.041623                  -0.586096   \n",
      "58973             -0.792579          -0.041623                   1.706205   \n",
      "58974             -0.792579          -0.041623                  -0.586096   \n",
      "58975             -0.792579          -0.041623                  -0.586096   \n",
      "\n",
      "       TRANSFER FROM HOSP/EXTRAM  TRANSFER FROM OTHER HEALT  \\\n",
      "0                       -0.40912                  -0.034718   \n",
      "1                       -0.40912                  -0.034718   \n",
      "2                       -0.40912                  -0.034718   \n",
      "3                       -0.40912                  -0.034718   \n",
      "4                        2.44427                  -0.034718   \n",
      "5                       -0.40912                  -0.034718   \n",
      "6                       -0.40912                  -0.034718   \n",
      "7                        2.44427                  -0.034718   \n",
      "8                       -0.40912                  -0.034718   \n",
      "9                       -0.40912                  -0.034718   \n",
      "10                       2.44427                  -0.034718   \n",
      "11                      -0.40912                  -0.034718   \n",
      "12                      -0.40912                  -0.034718   \n",
      "13                      -0.40912                  -0.034718   \n",
      "14                      -0.40912                  -0.034718   \n",
      "15                      -0.40912                  -0.034718   \n",
      "16                      -0.40912                  -0.034718   \n",
      "17                      -0.40912                  -0.034718   \n",
      "18                      -0.40912                  -0.034718   \n",
      "19                      -0.40912                  -0.034718   \n",
      "20                      -0.40912                  -0.034718   \n",
      "21                      -0.40912                  -0.034718   \n",
      "22                      -0.40912                  -0.034718   \n",
      "23                      -0.40912                  -0.034718   \n",
      "24                      -0.40912                  -0.034718   \n",
      "25                       2.44427                  -0.034718   \n",
      "26                      -0.40912                  -0.034718   \n",
      "27                      -0.40912                  -0.034718   \n",
      "28                      -0.40912                  -0.034718   \n",
      "29                      -0.40912                  -0.034718   \n",
      "...                          ...                        ...   \n",
      "58946                   -0.40912                  -0.034718   \n",
      "58947                   -0.40912                  -0.034718   \n",
      "58948                   -0.40912                  -0.034718   \n",
      "58949                   -0.40912                  -0.034718   \n",
      "58950                   -0.40912                  -0.034718   \n",
      "58951                   -0.40912                  -0.034718   \n",
      "58952                   -0.40912                  -0.034718   \n",
      "58953                    2.44427                  -0.034718   \n",
      "58954                   -0.40912                  -0.034718   \n",
      "58955                   -0.40912                  -0.034718   \n",
      "58956                   -0.40912                  -0.034718   \n",
      "58957                   -0.40912                  -0.034718   \n",
      "58958                   -0.40912                  -0.034718   \n",
      "58959                   -0.40912                  -0.034718   \n",
      "58960                   -0.40912                  -0.034718   \n",
      "58961                   -0.40912                  -0.034718   \n",
      "58962                   -0.40912                  -0.034718   \n",
      "58963                    2.44427                  -0.034718   \n",
      "58964                   -0.40912                  -0.034718   \n",
      "58965                    2.44427                  -0.034718   \n",
      "58966                    2.44427                  -0.034718   \n",
      "58967                    2.44427                  -0.034718   \n",
      "58968                   -0.40912                  -0.034718   \n",
      "58969                   -0.40912                  -0.034718   \n",
      "58970                    2.44427                  -0.034718   \n",
      "58971                    2.44427                  -0.034718   \n",
      "58972                   -0.40912                  -0.034718   \n",
      "58973                   -0.40912                  -0.034718   \n",
      "58974                    2.44427                  -0.034718   \n",
      "58975                   -0.40912                  -0.034718   \n",
      "\n",
      "       TRANSFER FROM SKILLED NUR  TRSF WITHIN THIS FACILITY  \n",
      "0                      -0.068195                  -0.009208  \n",
      "1                      -0.068195                  -0.009208  \n",
      "2                      -0.068195                  -0.009208  \n",
      "3                      -0.068195                  -0.009208  \n",
      "4                      -0.068195                  -0.009208  \n",
      "5                      -0.068195                  -0.009208  \n",
      "6                      -0.068195                  -0.009208  \n",
      "7                      -0.068195                  -0.009208  \n",
      "8                      -0.068195                  -0.009208  \n",
      "9                      -0.068195                  -0.009208  \n",
      "10                     -0.068195                  -0.009208  \n",
      "11                     -0.068195                  -0.009208  \n",
      "12                     -0.068195                  -0.009208  \n",
      "13                     -0.068195                  -0.009208  \n",
      "14                     -0.068195                  -0.009208  \n",
      "15                     -0.068195                  -0.009208  \n",
      "16                     -0.068195                  -0.009208  \n",
      "17                     -0.068195                  -0.009208  \n",
      "18                     -0.068195                  -0.009208  \n",
      "19                     -0.068195                  -0.009208  \n",
      "20                     -0.068195                  -0.009208  \n",
      "21                     -0.068195                  -0.009208  \n",
      "22                     -0.068195                  -0.009208  \n",
      "23                     -0.068195                  -0.009208  \n",
      "24                     -0.068195                  -0.009208  \n",
      "25                     -0.068195                  -0.009208  \n",
      "26                     -0.068195                  -0.009208  \n",
      "27                     -0.068195                  -0.009208  \n",
      "28                     -0.068195                  -0.009208  \n",
      "29                     -0.068195                  -0.009208  \n",
      "...                          ...                        ...  \n",
      "58946                  -0.068195                  -0.009208  \n",
      "58947                  -0.068195                  -0.009208  \n",
      "58948                  -0.068195                  -0.009208  \n",
      "58949                  -0.068195                  -0.009208  \n",
      "58950                  -0.068195                  -0.009208  \n",
      "58951                  -0.068195                  -0.009208  \n",
      "58952                  -0.068195                  -0.009208  \n",
      "58953                  -0.068195                  -0.009208  \n",
      "58954                  -0.068195                  -0.009208  \n",
      "58955                  -0.068195                  -0.009208  \n",
      "58956                  -0.068195                  -0.009208  \n",
      "58957                  -0.068195                  -0.009208  \n",
      "58958                  -0.068195                  -0.009208  \n",
      "58959                  -0.068195                  -0.009208  \n",
      "58960                  -0.068195                  -0.009208  \n",
      "58961                  -0.068195                  -0.009208  \n",
      "58962                  -0.068195                  -0.009208  \n",
      "58963                  -0.068195                  -0.009208  \n",
      "58964                  -0.068195                  -0.009208  \n",
      "58965                  -0.068195                  -0.009208  \n",
      "58966                  -0.068195                  -0.009208  \n",
      "58967                  -0.068195                  -0.009208  \n",
      "58968                  -0.068195                  -0.009208  \n",
      "58969                  -0.068195                  -0.009208  \n",
      "58970                  -0.068195                  -0.009208  \n",
      "58971                  -0.068195                  -0.009208  \n",
      "58972                  -0.068195                  -0.009208  \n",
      "58973                  -0.068195                  -0.009208  \n",
      "58974                  -0.068195                  -0.009208  \n",
      "58975                  -0.068195                  -0.009208  \n",
      "\n",
      "[58976 rows x 30 columns]\n"
     ]
    }
   ],
   "source": [
    "# Normalize X\n",
    "\n",
    "x = XnotNorm.values #returns a numpy array\n",
    "scaler = preprocessing.StandardScaler()\n",
    "x_scaled = scaler.fit_transform(x)\n",
    "XNorm = pd.DataFrame(x_scaled, columns=XnotNorm.columns)\n",
    "print(XNorm)\n"
   ]
  },
  {
   "cell_type": "code",
   "execution_count": 21,
   "metadata": {
    "_uuid": "b7abef1f1fd638d4134bf87154aec96debf2c20b"
   },
   "outputs": [
    {
     "name": "stdout",
     "output_type": "stream",
     "text": [
      "X_train:  (47180, 30)\n",
      "X_test:  (11796, 30)\n",
      "y_train:  (47180,)\n",
      "y_test:  (11796,)\n"
     ]
    }
   ],
   "source": [
    "# SPLIT into Train & Test\n",
    "\n",
    "X_train, X_test, y_train, y_test = train_test_split(XNorm, y, test_size=0.2, random_state=42)\n",
    "print ('X_train: ', X_train.shape)\n",
    "print ('X_test: ', X_test.shape)\n",
    "print ('y_train: ', y_train.shape)\n",
    "print ('y_test: ', y_test.shape)"
   ]
  },
  {
   "cell_type": "code",
   "execution_count": 22,
   "metadata": {
    "_uuid": "b9f1fc3a3335edd35204cb21a22ba3a04c357c4b"
   },
   "outputs": [
    {
     "name": "stdout",
     "output_type": "stream",
     "text": [
      "LogReg: 0.930203 (0.003467)\n",
      "RandomForest: 0.934082 (0.002113)\n",
      "SGDclassifier: 0.922276 (0.004204)\n",
      "KNearestNeighbors: 0.928148 (0.002909)\n",
      "DecisionTreeClassifier: 0.900297 (0.004776)\n"
     ]
    }
   ],
   "source": [
    "# Test Models and evaluation metric\n",
    "seed = 7\n",
    "scoring = 'accuracy' \n",
    "\n",
    "# Spot Check Algorithms\n",
    "Mymodels = []\n",
    "Mymodels.append(('LogReg', LogisticRegression()))\n",
    "Mymodels.append(('RandomForest', RandomForestClassifier()))\n",
    "Mymodels.append(('SGDclassifier', SGDClassifier()))\n",
    "Mymodels.append(('KNearestNeighbors', KNeighborsClassifier()))\n",
    "Mymodels.append(('DecisionTreeClassifier', DecisionTreeClassifier()))\n",
    "#Mymodels.append(('GaussianNB', GaussianNB()))\n",
    "#Mymodels.append(('SVM', SVC()))\n",
    "\n",
    "# Evaluate each model in turn\n",
    "results = []\n",
    "names = []\n",
    "for name, model in Mymodels:\n",
    "    kfold = model_selection.KFold(n_splits=10, random_state=seed)\n",
    "    cv_results = model_selection.cross_val_score(model, X_train, y_train, cv=kfold, scoring=scoring)\n",
    "    results.append(cv_results)\n",
    "    names.append(name)\n",
    "    msg = \"%s: %f (%f)\" % (name, cv_results.mean(), cv_results.std())\n",
    "    print(msg) "
   ]
  },
  {
   "cell_type": "code",
   "execution_count": 23,
   "metadata": {
    "_uuid": "3b9e6da5502d457ac515978f3cbd4bfa4baaaa03"
   },
   "outputs": [
    {
     "name": "stdout",
     "output_type": "stream",
     "text": [
      "RandomForestClassifier(bootstrap=True, class_weight=None, criterion='gini',\n",
      "            max_depth=None, max_features='auto', max_leaf_nodes=None,\n",
      "            min_impurity_decrease=0.0, min_impurity_split=None,\n",
      "            min_samples_leaf=1, min_samples_split=2,\n",
      "            min_weight_fraction_leaf=0.0, n_estimators=10, n_jobs=None,\n",
      "            oob_score=False, random_state=None, verbose=0,\n",
      "            warm_start=False)\n"
     ]
    }
   ],
   "source": [
    "# Optimize hyper params for one model\n",
    "\n",
    "model = RandomForestClassifier()\n",
    "\n",
    "param_grid = [{},]\n",
    "\n",
    "grid_search = GridSearchCV(model, param_grid, cv=5, scoring='accuracy')\n",
    "grid_search.fit(XNorm, y)\n",
    "\n",
    "print(grid_search.best_estimator_)"
   ]
  },
  {
   "cell_type": "code",
   "execution_count": 24,
   "metadata": {
    "_uuid": "26703de54f7966b326ecf447bf3a1ac85ee18370"
   },
   "outputs": [],
   "source": [
    "# Set the model according to above results\n",
    "\n",
    "model = RandomForestClassifier(bootstrap=True, class_weight=None, criterion='gini',\n",
    "            max_depth=None, max_features='auto', max_leaf_nodes=None,\n",
    "            min_impurity_decrease=0.0, min_impurity_split=None,\n",
    "            min_samples_leaf=1, min_samples_split=2,\n",
    "            min_weight_fraction_leaf=0.0, n_estimators=10, n_jobs=1,\n",
    "            oob_score=False, random_state=None, verbose=0,\n",
    "            warm_start=False)"
   ]
  },
  {
   "cell_type": "code",
   "execution_count": 25,
   "metadata": {
    "_uuid": "7fab4d5af0f342cfcd0778a4352dfb7433b0c7a1"
   },
   "outputs": [],
   "source": [
    "def plot_learning_curve(estimator, title, X, y, ylim=None, cv=None,\n",
    "                        n_jobs=1, train_sizes=np.linspace(.1, 1.0, 5)):\n",
    "    plt.figure()\n",
    "    plt.title(title)\n",
    "    if ylim is not None:\n",
    "        plt.ylim(*ylim)\n",
    "    plt.xlabel(\"Training examples\")\n",
    "    plt.ylabel(\"Error\")\n",
    "    train_sizes, train_scores, test_scores = learning_curve(\n",
    "        estimator, X, y, cv=cv, n_jobs=n_jobs, train_sizes=train_sizes)\n",
    "    train_scores_mean = 1-np.mean(train_scores, axis=1)\n",
    "    train_scores_std = np.std(train_scores, axis=1)\n",
    "    test_scores_mean = 1-np.mean(test_scores, axis=1)\n",
    "    test_scores_std = np.std(test_scores, axis=1)\n",
    "    plt.grid()\n",
    "\n",
    "    plt.fill_between(train_sizes, train_scores_mean - train_scores_std,\n",
    "                     train_scores_mean + train_scores_std, alpha=0.1,\n",
    "                     color=\"r\")\n",
    "    plt.fill_between(train_sizes, test_scores_mean - test_scores_std,\n",
    "                     test_scores_mean + test_scores_std, alpha=0.1, color=\"g\")\n",
    "    plt.plot(train_sizes, train_scores_mean, 'o-', color=\"r\",\n",
    "             label=\"Training score\")\n",
    "    plt.plot(train_sizes, test_scores_mean, 'o-', color=\"g\",\n",
    "             label=\"Cross-validation score\")\n",
    "\n",
    "    plt.legend(loc=\"best\")\n",
    "    return plt"
   ]
  },
  {
   "cell_type": "code",
   "execution_count": 26,
   "metadata": {
    "_uuid": "658f2b60956f375c6db4488ff0562eff5b2e2203"
   },
   "outputs": [
    {
     "data": {
      "text/plain": [
       "<module 'matplotlib.pyplot' from 'C:\\\\Users\\\\lhe-faisalm\\\\AppData\\\\Local\\\\Continuum\\\\anaconda3\\\\lib\\\\site-packages\\\\matplotlib\\\\pyplot.py'>"
      ]
     },
     "execution_count": 26,
     "metadata": {},
     "output_type": "execute_result"
    },
    {
     "data": {
      "image/png": "[encoded data removed]",
      "text/plain": [
       "<Figure size 432x288 with 1 Axes>"
      ]
     },
     "metadata": {
      "needs_background": "light"
     },
     "output_type": "display_data"
    }
   ],
   "source": [
    "# LEARNING CURVES Train / Validation\n",
    "\n",
    "title = \"Learning Curves \"\n",
    "cv = ShuffleSplit(n_splits=10, test_size=0.2, random_state=0)\n",
    "plot_learning_curve(model, title, XNorm, y, cv=cv, n_jobs=5)"
   ]
  },
  {
   "cell_type": "code",
   "execution_count": 27,
   "metadata": {
    "_uuid": "deee22f15f456818d8689d72411fc74d8c6d4511"
   },
   "outputs": [
    {
     "name": "stdout",
     "output_type": "stream",
     "text": [
      "TN:  10525\n",
      "FP:  104\n",
      "FN:  643\n",
      "TP:  524\n",
      "0.4490145672664953 0.8343949044585988\n"
     ]
    }
   ],
   "source": [
    "# Model FINAL fit and evaluation on test\n",
    "\n",
    "model.fit(X_train, y_train)\n",
    "final_predictions = model.predict(X_test)\n",
    "\n",
    "#final_acc = accuracy(y_test, final_predictions)\n",
    "# Confusion matrix\n",
    "\n",
    "conf_mx = confusion_matrix(y_test, final_predictions)\n",
    "\n",
    "TN = conf_mx[0,0]\n",
    "FP = conf_mx[0,1]\n",
    "FN = conf_mx[1,0]\n",
    "TP = conf_mx[1,1]\n",
    "\n",
    "print ('TN: ', TN)\n",
    "print ('FP: ', FP)\n",
    "print ('FN: ', FN)\n",
    "print ('TP: ', TP)\n",
    "\n",
    "recall = TP/(TP+FN)\n",
    "precision = TP/(TP+FP)\n",
    "\n",
    "print (recall, precision)"
   ]
  },
  {
   "cell_type": "code",
   "execution_count": 28,
   "metadata": {
    "_uuid": "ae95be8fd81bcf238dc2065f8193f16e36402d8b"
   },
   "outputs": [],
   "source": [
    "def plot_confusion_matrix(cm,target_names,title='Confusion matrix',cmap=None,\n",
    "                          normalize=False):\n",
    "    import itertools\n",
    "    accuracy = np.trace(cm) / float(np.sum(cm))\n",
    "    misclass = 1 - accuracy\n",
    "\n",
    "    if cmap is None:\n",
    "        cmap = plt.get_cmap('Blues')\n",
    "\n",
    "    plt.figure(figsize=(8, 6))\n",
    "    plt.imshow(cm, interpolation='nearest', cmap=cmap)\n",
    "    plt.title(title)\n",
    "    plt.colorbar()\n",
    "\n",
    "    if target_names is not None:\n",
    "        tick_marks = np.arange(len(target_names))\n",
    "        plt.xticks(tick_marks, target_names, rotation=45)\n",
    "        plt.yticks(tick_marks, target_names)\n",
    "\n",
    "    if normalize:\n",
    "        cm = cm.astype('float') / cm.sum(axis=1)[:, np.newaxis]\n",
    "        \n",
    "    thresh = cm.max() / 1.5 if normalize else cm.max() / 2\n",
    "    for i, j in itertools.product(range(cm.shape[0]), range(cm.shape[1])):\n",
    "        if normalize:\n",
    "            plt.text(j, i, \"{:0.4f}\".format(cm[i, j]),\n",
    "                     horizontalalignment=\"center\",\n",
    "                     color=\"white\" if cm[i, j] > thresh else \"black\")\n",
    "        else:\n",
    "            plt.text(j, i, \"{:,}\".format(cm[i, j]),\n",
    "                     horizontalalignment=\"center\",\n",
    "                     color=\"white\" if cm[i, j] > thresh else \"black\")\n",
    "\n",
    "\n",
    "    plt.tight_layout()\n",
    "    plt.ylabel('True label')\n",
    "    plt.xlabel('Predicted label\\naccuracy={:0.4f}; misclass={:0.4f}'.format(accuracy, misclass))\n",
    "    plt.show()\n"
   ]
  },
  {
   "cell_type": "code",
   "execution_count": 29,
   "metadata": {
    "_uuid": "88c6fca77e49ef721c7d8f2ae6d7dc44f461ef8d"
   },
   "outputs": [
    {
     "data": {
      "image/png": "[encoded data removed]",
      "text/plain": [
       "<Figure size 576x432 with 2 Axes>"
      ]
     },
     "metadata": {
      "needs_background": "light"
     },
     "output_type": "display_data"
    }
   ],
   "source": [
    "plot_confusion_matrix(conf_mx, \n",
    "                      normalize    = False,\n",
    "                      target_names = ['lived', 'died'],\n",
    "                      title        = \"Confusion Matrix\")"
   ]
  },
  {
   "cell_type": "code",
   "execution_count": 30,
   "metadata": {
    "_uuid": "e54af3e768f47fa918b47c25bc5ce7cf85717a3c"
   },
   "outputs": [
    {
     "name": "stdout",
     "output_type": "stream",
     "text": [
      "precision  0.8344\n",
      "recall  0.449\n",
      "accuracy  0.9367\n",
      "F1 score  0.5838\n"
     ]
    }
   ],
   "source": [
    "print ('precision ',round(precision_score(y_test, final_predictions),4))\n",
    "print ('recall ',round(recall_score(y_test, final_predictions) ,4))\n",
    "print ('accuracy ',round(accuracy_score(y_test, final_predictions),4))\n",
    "print ('F1 score ',round(f1_score(y_test, final_predictions),4))"
   ]
  },
  {
   "cell_type": "code",
   "execution_count": 31,
   "metadata": {
    "_uuid": "d161527f1125fdaf8573e803f8ac9f4090f5dfad",
    "scrolled": true
   },
   "outputs": [
    {
     "data": {
      "image/png": "[encoded data removed]",
      "text/plain": [
       "<Figure size 1080x1800 with 1 Axes>"
      ]
     },
     "metadata": {
      "needs_background": "light"
     },
     "output_type": "display_data"
    }
   ],
   "source": [
    "# FEATURE IMPORTANCE \n",
    "\n",
    "trainFinalFI = XNorm\n",
    "yFinalFI = y\n",
    "model.fit(trainFinalFI,yFinalFI)\n",
    "\n",
    "FI_model = pd.DataFrame({\"Feature Importance\":model.feature_importances_,}, index=trainFinalFI.columns)\n",
    "FI_model[FI_model[\"Feature Importance\"] > 0.01].sort_values(\"Feature Importance\").plot(kind=\"barh\",figsize=(15,25))\n",
    "plt.xticks(rotation=90)\n",
    "plt.xticks(rotation=90)\n",
    "plt.show()"
   ]
  },
  {
   "cell_type": "code",
   "execution_count": 32,
   "metadata": {
    "_uuid": "0cf27f4679fc2222012b6404a856ab2d3197a180"
   },
   "outputs": [
    {
     "name": "stdout",
     "output_type": "stream",
     "text": [
      "                           Feature Importance\n",
      "NumLabs                              0.139215\n",
      "TotalNumInteract                     0.120267\n",
      "NumInput                             0.085419\n",
      "NumChartEvents                       0.077836\n",
      "NumRx                                0.061284\n",
      "NumOutput                            0.060899\n",
      "age                                  0.058374\n",
      "NumCPTevents                         0.056572\n",
      "NumDiagnosis                         0.051095\n",
      "NumMicroLabs                         0.049911\n",
      "NumTransfers                         0.049594\n",
      "NumNotes                             0.046133\n",
      "NumProcs                             0.039677\n",
      "NumCallouts                          0.033398\n",
      "NumProcEvents                        0.026901\n",
      "EMERGENCY                            0.006975\n",
      "F                                    0.005733\n",
      "EMERGENCY ROOM ADMIT                 0.005292\n",
      "M                                    0.005127\n",
      "TRANSFER FROM HOSP/EXTRAM            0.004756\n",
      "CLINIC REFERRAL/PREMATURE            0.003570\n",
      "PHYS REFERRAL/NORMAL DELI            0.003080\n",
      "ELECTIVE                             0.002551\n"
     ]
    }
   ],
   "source": [
    "# List of important features for model\n",
    "FI_model = pd.DataFrame({\"Feature Importance\":model.feature_importances_,}, index=trainFinalFI.columns)\n",
    "FI_model=FI_model.sort_values('Feature Importance', ascending = False)\n",
    "print(FI_model[FI_model[\"Feature Importance\"] > 0.0025])"
   ]
  },
  {
   "cell_type": "code",
   "execution_count": 33,
   "metadata": {
    "_uuid": "69c75f297f1aa7e2d2aab8dd17321a750e7e65a1"
   },
   "outputs": [
    {
     "name": "stdout",
     "output_type": "stream",
     "text": [
      "AUC: 0.720\n"
     ]
    },
    {
     "data": {
      "image/png": "[encoded data removed]",
      "text/plain": [
       "<Figure size 432x288 with 1 Axes>"
      ]
     },
     "metadata": {
      "needs_background": "light"
     },
     "output_type": "display_data"
    }
   ],
   "source": [
    "# AUC/ROC curves should be used when there are roughly equal numbers of observations for each class\n",
    "# Precision-Recall curves should be used when there is a moderate to large class imbalance\n",
    "\n",
    "# calculate AUC\n",
    "auc = roc_auc_score(y_test, final_predictions)\n",
    "print('AUC: %.3f' % auc)\n",
    "# calculate roc curve\n",
    "fpr, tpr, thresholds = roc_curve(y_test, final_predictions)\n",
    "# plot no skill\n",
    "plt.plot([0, 1], [0, 1], linestyle='--')\n",
    "# plot the roc curve for the model\n",
    "plt.plot(fpr, tpr, marker='.')\n",
    "plt.title('AUC for ROC')\n",
    "plt.xlabel('False Positive Rate')\n",
    "plt.ylabel('True Positive Rate')\n",
    "plt.show()"
   ]
  },
  {
   "cell_type": "code",
   "execution_count": 34,
   "metadata": {
    "_uuid": "7b208a76cc93c720092853a6d5fd4c7b7e5ce423"
   },
   "outputs": [
    {
     "name": "stdout",
     "output_type": "stream",
     "text": [
      "f1=0.584\n"
     ]
    },
    {
     "data": {
      "image/png": "[encoded data removed]",
      "text/plain": [
       "<Figure size 432x288 with 1 Axes>"
      ]
     },
     "metadata": {
      "needs_background": "light"
     },
     "output_type": "display_data"
    }
   ],
   "source": [
    "# Modify the raw final_predictions - prediction probs into 0 and 1\n",
    "\n",
    "Preds = final_predictions.copy()\n",
    "#print(len(Preds))\n",
    "#print(Preds)\n",
    "Preds[ np.where( Preds >= 0.5 ) ] = 1\n",
    "Preds[ np.where( Preds < 0.5 ) ] = 0\n",
    "\n",
    "# calculate precision-recall curve\n",
    "precision, recall, thresholds = precision_recall_curve(y_test, Preds)\n",
    "# calculate F1 score\n",
    "f1 = f1_score(y_test, Preds)\n",
    "print('f1=%.3f' % (f1))\n",
    "# plot no skill\n",
    "plt.plot([0, 1], [0.5, 0.5], linestyle='--')\n",
    "# plot the roc curve for the model\n",
    "plt.plot(recall, precision, marker='.')\n",
    "# show the plot\n",
    "plt.show()"
   ]
  },
  {
   "cell_type": "markdown",
   "metadata": {
    "_uuid": "947306b39bf141fa1edc8ebc613fa7b5361004c2"
   },
   "source": [
    "# NN"
   ]
  },
  {
   "cell_type": "code",
   "execution_count": 36,
   "metadata": {
    "_uuid": "463d8b9dccc8291149f3de657d2033046b91a777",
    "scrolled": true
   },
   "outputs": [
    {
     "name": "stdout",
     "output_type": "stream",
     "text": [
      "_________________________________________________________________\n",
      "Layer (type)                 Output Shape              Param #   \n",
      "=================================================================\n",
      "dense_5 (Dense)              (None, 2048)              63488     \n",
      "_________________________________________________________________\n",
      "dense_6 (Dense)              (None, 2048)              4196352   \n",
      "_________________________________________________________________\n",
      "dropout_3 (Dropout)          (None, 2048)              0         \n",
      "_________________________________________________________________\n",
      "dense_7 (Dense)              (None, 2048)              4196352   \n",
      "_________________________________________________________________\n",
      "dropout_4 (Dropout)          (None, 2048)              0         \n",
      "_________________________________________________________________\n",
      "dense_8 (Dense)              (None, 1)                 2049      \n",
      "=================================================================\n",
      "Total params: 8,458,241\n",
      "Trainable params: 8,458,241\n",
      "Non-trainable params: 0\n",
      "_________________________________________________________________\n",
      "None\n",
      "Train on 47180 samples, validate on 11796 samples\n",
      "Epoch 1/10\n",
      "47180/47180 [==============================] - 299s 6ms/step - loss: 3.3656 - binary_accuracy: 0.9219 - val_loss: 2.5463 - val_binary_accuracy: 0.9296.3669 - binary_accuracy: 0.9 - ETA: 0s - loss: 3.3660 - binary_accuracy: 0.92\n",
      "Epoch 2/10\n",
      "47180/47180 [==============================] - 297s 6ms/step - loss: 2.0714 - binary_accuracy: 0.9301 - val_loss: 1.6881 - val_binary_accuracy: 0.9312ccuracy: 0\n",
      "Epoch 3/10\n",
      "47180/47180 [==============================] - 298s 6ms/step - loss: 1.4254 - binary_accuracy: 0.9306 - val_loss: 1.2018 - val_binary_accuracy: 0.9310\n",
      "Epoch 4/10\n",
      "47180/47180 [==============================] - 298s 6ms/step - loss: 1.0431 - binary_accuracy: 0.9320 - val_loss: 0.9071 - val_binary_accuracy: 0.9322\n",
      "Epoch 5/10\n",
      "47180/47180 [==============================] - 302s 6ms/step - loss: 0.8057 - binary_accuracy: 0.9329 - val_loss: 0.7183 - val_binary_accuracy: 0.9323\n",
      "Epoch 6/10\n",
      "47180/47180 [==============================] - 302s 6ms/step - loss: 0.6451 - binary_accuracy: 0.9331 - val_loss: 0.5850 - val_binary_accuracy: 0.9321\n",
      "Epoch 7/10\n",
      "47180/47180 [==============================] - 299s 6ms/step - loss: 0.5347 - binary_accuracy: 0.9331 - val_loss: 0.4930 - val_binary_accuracy: 0.9327\n",
      "Epoch 8/10\n",
      "47180/47180 [==============================] - 301s 6ms/step - loss: 0.4587 - binary_accuracy: 0.9329 - val_loss: 0.4327 - val_binary_accuracy: 0.9323\n",
      "Epoch 9/10\n",
      "47180/47180 [==============================] - 302s 6ms/step - loss: 0.4053 - binary_accuracy: 0.9333 - val_loss: 0.3849 - val_binary_accuracy: 0.9321\n",
      "Epoch 10/10\n",
      "47180/47180 [==============================] - 302s 6ms/step - loss: 0.3651 - binary_accuracy: 0.9340 - val_loss: 0.3517 - val_binary_accuracy: 0.9326\n",
      "11796/11796 [==============================] - 6s 472us/step\n",
      "____________________________________________________________________________________________________\n",
      "Test Loss and Accuracy\n",
      "results  [0.35170435625522894, 0.9326042726145797]\n"
     ]
    },
    {
     "data": {
      "text/plain": [
       "dict_keys(['val_loss', 'val_binary_accuracy', 'loss', 'binary_accuracy'])"
      ]
     },
     "execution_count": 36,
     "metadata": {},
     "output_type": "execute_result"
    }
   ],
   "source": [
    "# NN MODEL\n",
    "\n",
    "# Use of DROPOUT\n",
    "model = models.Sequential()\n",
    "model.add(layers.Dense(2048, activation='relu', kernel_regularizer=regularizers.l2(0.001), input_shape=(30,)))\n",
    "#model.add(layers.BatchNormalization())\n",
    "model.add(layers.Dense(2048, activation='relu', kernel_regularizer=regularizers.l2(0.001)))\n",
    "model.add(layers.Dropout(0.5))\n",
    "model.add(layers.Dense(2048, activation='relu', kernel_regularizer=regularizers.l2(0.001)))\n",
    "model.add(layers.Dropout(0.5))\n",
    "model.add(layers.Dense(1, activation='sigmoid'))\n",
    "print(model.summary())\n",
    "\n",
    "# FIT / TRAIN model\n",
    "\n",
    "NumEpochs = 10\n",
    "BatchSize = 16\n",
    "\n",
    "model.compile(optimizer=optimizers.Adam(lr=1e-5), loss='binary_crossentropy', metrics=['binary_accuracy'])\n",
    "history = model.fit(X_train, y_train, epochs=NumEpochs, batch_size=BatchSize, validation_data=(X_test, y_test))\n",
    "\n",
    "results = model.evaluate(X_test, y_test)\n",
    "print(\"_\"*100)\n",
    "print(\"Test Loss and Accuracy\")\n",
    "print(\"results \", results)\n",
    "history_dict = history.history\n",
    "history_dict.keys()"
   ]
  },
  {
   "cell_type": "code",
   "execution_count": 37,
   "metadata": {
    "_uuid": "f2757fb20709664d149cd84ab4ab2e151fdf3243"
   },
   "outputs": [
    {
     "data": {
      "image/png": "[encoded data removed]",
      "text/plain": [
       "<Figure size 432x288 with 1 Axes>"
      ]
     },
     "metadata": {
      "needs_background": "light"
     },
     "output_type": "display_data"
    },
    {
     "data": {
      "image/png": "[encoded data removed]",
      "text/plain": [
       "<Figure size 432x288 with 1 Axes>"
      ]
     },
     "metadata": {
      "needs_background": "light"
     },
     "output_type": "display_data"
    }
   ],
   "source": [
    "# VALIDATION LOSS curves\n",
    "\n",
    "plt.clf()\n",
    "history_dict = history.history\n",
    "loss_values = history_dict['loss']\n",
    "val_loss_values = history_dict['val_loss']\n",
    "epochs = range(1, (len(history_dict['loss']) + 1))\n",
    "plt.plot(epochs, loss_values, 'bo', label='Training loss')\n",
    "plt.plot(epochs, val_loss_values, 'r', label='Validation loss')\n",
    "plt.title('Training and validation loss')\n",
    "plt.xlabel('Epochs')\n",
    "plt.ylabel('Loss')\n",
    "plt.legend()\n",
    "plt.show()\n",
    "\n",
    "# VALIDATION ACCURACY curves\n",
    "\n",
    "plt.clf()\n",
    "acc_values = history_dict['binary_accuracy']\n",
    "val_acc_values = history_dict['val_binary_accuracy']\n",
    "epochs = range(1, (len(history_dict['binary_accuracy']) + 1))\n",
    "plt.plot(epochs, acc_values, 'bo', label='Training acc')\n",
    "plt.plot(epochs, val_acc_values, 'r', label='Validation acc')\n",
    "plt.title('Training and validation accuracy')\n",
    "plt.xlabel('Epochs')\n",
    "plt.ylabel('Accuracy')\n",
    "plt.legend()\n",
    "plt.show()\n",
    "\n"
   ]
  },
  {
   "cell_type": "code",
   "execution_count": 38,
   "metadata": {
    "_uuid": "df20f87b1b047ea7721a0e3e9bd1add45f9b87ea"
   },
   "outputs": [],
   "source": [
    "# Final Fit / Predict\n",
    "\n",
    "# NOTE final_predictions is a list of probabilities\n",
    "#model.compile(optimizer='rmsprop', loss='binary_crossentropy', metrics=['acc'])\n",
    "#history = model.fit(X_train, y_train, epochs=NumEpochs, batch_size=BatchSize)\n",
    "\n",
    "final_predictions = model.predict(X_test)"
   ]
  },
  {
   "cell_type": "code",
   "execution_count": 39,
   "metadata": {
    "_uuid": "7525adae5ef7ef8a2f72910fc2b8eec057662aea"
   },
   "outputs": [],
   "source": [
    "# Modify the raw final_predictions - prediction probs into 0 and 1\n",
    "\n",
    "Preds = final_predictions.copy()\n",
    "#print(len(Preds))\n",
    "#print(Preds)\n",
    "Preds[ np.where( Preds >= 0.5 ) ] = 1\n",
    "Preds[ np.where( Preds < 0.5 ) ] = 0\n",
    "#print(Preds)"
   ]
  },
  {
   "cell_type": "code",
   "execution_count": 40,
   "metadata": {
    "_uuid": "76c30cd9ac5e1c483bb1b6ff36adf6ee6e41fa13"
   },
   "outputs": [
    {
     "name": "stdout",
     "output_type": "stream",
     "text": [
      "TN:  10439\n",
      "FP:  190\n",
      "FN:  605\n",
      "TP:  562\n",
      "0.48157669237360756 0.7473404255319149\n"
     ]
    }
   ],
   "source": [
    "\n",
    "# Confusion matrix\n",
    "\n",
    "conf_mx = confusion_matrix(y_test, Preds)\n",
    "\n",
    "TN = conf_mx[0,0]\n",
    "FP = conf_mx[0,1]\n",
    "FN = conf_mx[1,0]\n",
    "TP = conf_mx[1,1]\n",
    "\n",
    "print ('TN: ', TN)\n",
    "print ('FP: ', FP)\n",
    "print ('FN: ', FN)\n",
    "print ('TP: ', TP)\n",
    "\n",
    "recall = TP/(TP+FN)\n",
    "precision = TP/(TP+FP)\n",
    "\n",
    "print (recall, precision)"
   ]
  },
  {
   "cell_type": "code",
   "execution_count": 41,
   "metadata": {
    "_uuid": "576b5dd04669cbf7b3276dc13288b4c4060eb022"
   },
   "outputs": [
    {
     "data": {
      "image/png": "[encoded data removed]",
      "text/plain": [
       "<Figure size 576x432 with 2 Axes>"
      ]
     },
     "metadata": {
      "needs_background": "light"
     },
     "output_type": "display_data"
    }
   ],
   "source": [
    "plot_confusion_matrix(conf_mx, \n",
    "                      normalize    = False,\n",
    "                      target_names = ['lived', 'died'],\n",
    "                      title        = \"Confusion Matrix\")"
   ]
  },
  {
   "cell_type": "code",
   "execution_count": 42,
   "metadata": {
    "_uuid": "7f915a9d0a4979953930d31b8d83bf07290eda8c"
   },
   "outputs": [
    {
     "name": "stdout",
     "output_type": "stream",
     "text": [
      "precision  0.7473404255319149\n",
      "recall  0.48157669237360756\n",
      "accuracy  0.9326042726347915\n",
      "F1 score  0.5857217300677436\n"
     ]
    }
   ],
   "source": [
    "print ('precision ',precision_score(y_test, Preds))\n",
    "print ('recall ',recall_score(y_test, Preds) )\n",
    "print ('accuracy ',accuracy_score(y_test, Preds))\n",
    "print ('F1 score ',f1_score(y_test, Preds))"
   ]
  },
  {
   "cell_type": "code",
   "execution_count": 43,
   "metadata": {
    "_uuid": "3c2eb6bbf0e63aabfb71d19db269b72c58ed1726"
   },
   "outputs": [
    {
     "name": "stdout",
     "output_type": "stream",
     "text": [
      "AUC: 0.732\n"
     ]
    },
    {
     "data": {
      "image/png": "[encoded data removed]",
      "text/plain": [
       "<Figure size 432x288 with 1 Axes>"
      ]
     },
     "metadata": {
      "needs_background": "light"
     },
     "output_type": "display_data"
    }
   ],
   "source": [
    "# AUC/ROC curves should be used when there are roughly equal numbers of observations for each class\n",
    "# Precision-Recall curves should be used when there is a moderate to large class imbalance\n",
    "\n",
    "# calculate AUC\n",
    "auc = roc_auc_score(y_test, Preds)\n",
    "print('AUC: %.3f' % auc)\n",
    "# calculate roc curve\n",
    "fpr, tpr, thresholds = roc_curve(y_test, Preds)\n",
    "# plot no skill\n",
    "plt.plot([0, 1], [0, 1], linestyle='--')\n",
    "# plot the roc curve for the model\n",
    "plt.plot(fpr, tpr, marker='.')\n",
    "plt.title('ROC ')\n",
    "# show the plot\n",
    "plt.show()"
   ]
  },
  {
   "cell_type": "code",
   "execution_count": 44,
   "metadata": {
    "_uuid": "d01c37788928ba87dcc89ede9b2cd9d6b9525f34"
   },
   "outputs": [
    {
     "name": "stdout",
     "output_type": "stream",
     "text": [
      "f1=0.586 ap=0.411\n"
     ]
    },
    {
     "data": {
      "image/png": "[encoded data removed]",
      "text/plain": [
       "<Figure size 432x288 with 1 Axes>"
      ]
     },
     "metadata": {
      "needs_background": "light"
     },
     "output_type": "display_data"
    }
   ],
   "source": [
    "# calculate precision-recall curve\n",
    "precision, recall, thresholds = precision_recall_curve(y_test, Preds)\n",
    "# calculate F1 score\n",
    "f1 = f1_score(y_test, Preds)\n",
    "# calculate precision-recall AUC\n",
    "#auc = auc(recall, precision)\n",
    "# calculate average precision score\n",
    "ap = average_precision_score(y_test, Preds)\n",
    "print('f1=%.3f ap=%.3f' % (f1, ap))\n",
    "# plot no skill\n",
    "plt.plot([0, 1], [0.5, 0.5], linestyle='--')\n",
    "# plot the roc curve for the model\n",
    "plt.plot(recall, precision, marker='.')\n",
    "# show the plot\n",
    "plt.show()"
   ]
  }
 ],
 "metadata": {
  "kernelspec": {
   "display_name": "Python 3",
   "language": "python",
   "name": "python3"
  },
  "language_info": {
   "codemirror_mode": {
    "name": "ipython",
    "version": 3
   },
   "file_extension": ".py",
   "mimetype": "text/x-python",
   "name": "python",
   "nbconvert_exporter": "python",
   "pygments_lexer": "ipython3",
   "version": "3.7.2"
  }
 },
 "nbformat": 4,
 "nbformat_minor": 1
}
